{
 "cells": [
  {
   "cell_type": "markdown",
   "metadata": {
    "deletable": true,
    "editable": true
   },
   "source": [
    "# PTUSE observation report"
   ]
  },
  {
   "cell_type": "code",
   "execution_count": null,
   "metadata": {
    "collapsed": false
   },
   "outputs": [],
   "source": [
    "print 'Report Started:'\n",
    "!date"
   ]
  },
  {
   "cell_type": "markdown",
   "metadata": {
    "deletable": true,
    "editable": true
   },
   "source": [
    "## Files to be processed"
   ]
  },
  {
   "cell_type": "code",
   "execution_count": null,
   "metadata": {
    "collapsed": true,
    "deletable": true,
    "editable": true
   },
   "outputs": [],
   "source": [
    "directory = "
   ]
  },
  {
   "cell_type": "markdown",
   "metadata": {
    "deletable": true,
    "editable": true
   },
   "source": [
    "## Set up environment"
   ]
  },
  {
   "cell_type": "code",
   "execution_count": null,
   "metadata": {
    "collapsed": false,
    "deletable": true,
    "editable": true
   },
   "outputs": [],
   "source": [
    "%pylab inline"
   ]
  },
  {
   "cell_type": "code",
   "execution_count": null,
   "metadata": {
    "collapsed": false,
    "deletable": true,
    "editable": true
   },
   "outputs": [],
   "source": [
    "import os\n",
    "import sys\n",
    "import numpy as np\n",
    "from matplotlib import cm\n",
    "from matplotlib import colors\n",
    "import psrchive as psr\n",
    "from coast_guard import cleaners"
   ]
  },
  {
   "cell_type": "markdown",
   "metadata": {
    "deletable": true,
    "editable": true
   },
   "source": [
    "## Load data"
   ]
  },
  {
   "cell_type": "code",
   "execution_count": null,
   "metadata": {
    "collapsed": false,
    "deletable": true,
    "editable": true
   },
   "outputs": [],
   "source": [
    "files = []\n",
    "directory = directory + '/'\n",
    "for file in os.listdir(directory):\n",
    "    if file.endswith('.ar'):\n",
    "        files.append(file)\n",
    "files.sort()\n",
    "archives = []\n",
    "archives = [psr.Archive_load(directory + file) for file in files]\n",
    "print archives[0]\n",
    "for i in range(1, len(archives)):\n",
    "    print archives[i]\n",
    "    archives[0].append(archives[i])"
   ]
  },
  {
   "cell_type": "markdown",
   "metadata": {
    "deletable": true,
    "editable": true
   },
   "source": [
    "## Display metadata"
   ]
  },
  {
   "cell_type": "code",
   "execution_count": null,
   "metadata": {
    "collapsed": true,
    "deletable": true,
    "editable": true
   },
   "outputs": [],
   "source": [
    "nbin = archives[0].get_nbin()\n",
    "nchan = archives[0].get_nchan()\n",
    "npol = archives[0].get_npol()\n",
    "nsubint = archives[0].get_nsubint()\n",
    "obs_type = archives[0].get_type()\n",
    "telescope_name = archives[0].get_telescope()\n",
    "source_name = archives[0].get_source()\n",
    "ra = archives[0].get_coordinates().ra()\n",
    "dec = archives[0].get_coordinates().dec()\n",
    "centre_frequency = archives[0].get_centre_frequency()\n",
    "bandwidth = archives[0].get_bandwidth()\n",
    "dm = archives[0].get_dispersion_measure()\n",
    "rm = archives[0].get_rotation_measure()\n",
    "is_dedispersed = archives[0].get_dedispersed()\n",
    "is_faraday_rotated = archives[0].get_faraday_corrected()\n",
    "is_pol_calib = archives[0].get_poln_calibrated()\n",
    "data_units = archives[0].get_scale()\n",
    "data_state = archives[0].get_state()\n",
    "obs_duration = archives[0].integration_length()\n",
    "receiver_name = archives[0].get_receiver_name()\n",
    "receptor_basis = archives[0].get_basis()\n",
    "backend_name = archives[0].get_backend_name()\n",
    "low_freq = archives[0].get_centre_frequency() - archives[0].get_bandwidth() / 2.0\n",
    "high_freq = archives[0].get_centre_frequency() + archives[0].get_bandwidth() / 2.0\n",
    "subint_duration = np.rint(archives[0].get_Integration(1).get_duration())"
   ]
  },
  {
   "cell_type": "code",
   "execution_count": null,
   "metadata": {
    "collapsed": false,
    "deletable": true,
    "editable": true,
    "scrolled": false
   },
   "outputs": [],
   "source": [
    "print 'nbin             Number of pulse phase bins                 %s' % nbin\n",
    "print 'nchan            Number of frequency channels               %s' % nchan\n",
    "print 'npol             Number of polarizations                    %s' % npol\n",
    "print 'nsubint          Number of sub-integrations                 %s' % nsubint\n",
    "print 'type             Observation type                           %s' % obs_type\n",
    "print 'site             Telescope name                             %s' % telescope_name\n",
    "print 'name             Source name                                %s' % source_name\n",
    "print 'coord            Source coordinates                         %s%s' % (ra.getHMS(), dec.getDMS())\n",
    "print 'freq             Centre frequency (MHz)                     %s' % centre_frequency\n",
    "print 'bw               Bandwidth (MHz)                            %s' % bandwidth\n",
    "print 'dm               Dispersion measure (pc/cm^3)               %s' % dm\n",
    "print 'rm               Rotation measure (rad/m^2)                 %s' % rm\n",
    "print 'dmc              Dispersion corrected                       %s' % is_dedispersed\n",
    "print 'rmc              Faraday Rotation corrected                 %s' % is_faraday_rotated\n",
    "print 'polc             Polarization calibrated                    %s' % is_pol_calib\n",
    "print 'scale            Data units                                 %s' % data_units\n",
    "print 'state            Data state                                 %s' % data_state\n",
    "print 'length           Observation duration (s)                   %s' % obs_duration\n",
    "print 'rcvr:name        Receiver name                              %s' % receiver_name\n",
    "print 'rcvr:basis       Basis of receptors                         %s' % receptor_basis\n",
    "print 'be:name          Name of the backend instrument             %s' % backend_name"
   ]
  },
  {
   "cell_type": "markdown",
   "metadata": {
    "deletable": true,
    "editable": true
   },
   "source": [
    "## Clean archive, display RFI stats and RFI mask"
   ]
  },
  {
   "cell_type": "code",
   "execution_count": null,
   "metadata": {
    "collapsed": false,
    "deletable": true,
    "editable": true
   },
   "outputs": [],
   "source": [
    "clean_rfi = archives[0].clone()\n",
    "cleaner = cleaners.load_cleaner('surgical')\n",
    "cleaner.parse_config_string('chan_numpieces=1,subint_numpieces=1,chanthresh=3,subintthresh=3')\n",
    "cleaner.run(clean_rfi)\n",
    "cleaner2 = cleaners.load_cleaner('rcvrstd')\n",
    "cleaner2.parse_config_string('badchans=0:210;286:497;831:886;936:938;1099:1101;1108:1111;1113:1128;1166:1167;1175:1177;1180:1181;1184:1186;1194:1196;1199:1201;1204:1205;1223:1224;1228:1229;1276:1277;1295:1296;1300:1301;1309:1311;1333:1335;1338:1339;1347:1349;1357:1358;1362:1363;1387:2128;2700:2709;2900:3044;3174:3687;3896:4095,badfreqs=None,badsubints=None,trimbw=0,trimfrac=0,trimnum=0,response=None')\n",
    "cleaner2.run(clean_rfi)\n",
    "cleaner3 = cleaners.load_cleaner('bandwagon')\n",
    "cleaner3.parse_config_string('badchantol=0.9,badsubtol=1.0')\n",
    "cleaner3.run(clean_rfi)\n",
    "weights = clean_rfi.get_weights()\n",
    "common_clean_rfi = clean_rfi.clone()\n",
    "common_clean_rfi.dedisperse()\n",
    "common_clean_rfi.remove_baseline()\n",
    "common_clean_rfi.centre_max_bin()\n",
    "i = j = counter = channel = 0\n",
    "empty_chan = [i for i in range(nchan)]\n",
    "for i in range(nsubint):\n",
    "    channel = 0\n",
    "    del empty_chan[:]\n",
    "    for j in range(nchan):\n",
    "        if weights[i][j] == 0.0:\n",
    "            counter += 1\n",
    "            channel += 1\n",
    "            empty_chan.append(j)\n",
    "    subint_proc = (float(channel) / float(nchan)) * 100\n",
    "    print 'Subint %s has %s channels (%.2f%%) set to zero.' % (i, channel, subint_proc)\n",
    "percentage = (float(counter) / float(weights.size)) * 100\n",
    "print '%s data points out of %s with weights set to zero.' % (counter, weights.size)\n",
    "print '%.2f%% data was set to zero.' % (percentage)\n",
    "fig, ax1 = plt.subplots(1, 1, figsize = [15, 10])\n",
    "ax1.set_title(source_name)\n",
    "ax1.set_title('RFI mask', loc='left')\n",
    "ax1.set_ylabel('Channel number')\n",
    "ax1.yaxis.set_ticks(np.arange(0, nchan - 1, 200))\n",
    "ax1.set_xlabel('Subint number')\n",
    "ax1_secondary = ax1.twinx()\n",
    "ax1_secondary.set_ylabel('Frequency (MHz)')\n",
    "ax1_secondary.set_ylim(low_freq, high_freq)\n",
    "ax1_secondary.yaxis.set_ticks(np.arange(np.rint(low_freq), np.rint(high_freq), 25))\n",
    "ax1.imshow(weights.T, origin='lower', aspect='auto', cmap=colors.ListedColormap(['red', 'white']), interpolation='none', extent=(0, nsubint - 1, 0, nchan - 1))"
   ]
  },
  {
   "cell_type": "markdown",
   "metadata": {
    "deletable": true,
    "editable": true
   },
   "source": [
    "## Plot average profiles (Stokes data)"
   ]
  },
  {
   "cell_type": "code",
   "execution_count": null,
   "metadata": {
    "collapsed": false,
    "deletable": true,
    "editable": true
   },
   "outputs": [],
   "source": [
    "clean_profile = common_clean_rfi.clone()\n",
    "clean_profile.tscrunch()\n",
    "clean_profile.fscrunch()\n",
    "clean_profile.convert_state('Stokes')\n",
    "clean_profile_data = clean_profile.get_data()\n",
    "clean_profile_data = clean_profile_data.squeeze()\n",
    "clean_min_max_vals = np.array([clean_profile_data[0, :].max(), clean_profile_data[1, :].max(), clean_profile_data[2, :].max(), clean_profile_data[3, :].max(), clean_profile_data[0, :].min(), clean_profile_data[1, :].min(), clean_profile_data[2, :].min(), clean_profile_data[3, :].min()])\n",
    "dirty_profile = archives[0].clone()\n",
    "dirty_profile.dedisperse()\n",
    "dirty_profile.remove_baseline()\n",
    "dirty_profile.centre_max_bin()\n",
    "dirty_profile.tscrunch()\n",
    "dirty_profile.fscrunch()\n",
    "dirty_profile.convert_state('Stokes')\n",
    "dirty_profile_data = dirty_profile.get_data()\n",
    "dirty_profile_data = dirty_profile_data.squeeze()\n",
    "dirty_min_max_vals = np.array([dirty_profile_data[0, :].min(), dirty_profile_data[1, :].min(), dirty_profile_data[2, :].min(), dirty_profile_data[3, :].min(), dirty_profile_data[0, :].max(), dirty_profile_data[1, :].max(), dirty_profile_data[2, :].max(), dirty_profile_data[3, :].max()])\n",
    "fig, ((ax1, ax2)) = plt.subplots(2, 1, sharex='col', figsize = [15, 10], tight_layout='true')\n",
    "ax1.set_title(source_name)\n",
    "ax1.text(20, dirty_profile_data.max(), 'Unclean data', fontsize='large')\n",
    "ax1.set_ylabel('Flux (a.u.)')\n",
    "ax1.set_ylim((dirty_min_max_vals.min() * 1.2), dirty_min_max_vals.max() + 0.1 * dirty_min_max_vals.max())\n",
    "ax1.plot(dirty_profile_data[0, :], 'k', label='I')\n",
    "ax1.plot(dirty_profile_data[1, :], 'r', label='Q')\n",
    "ax1.plot(dirty_profile_data[2, :], 'g', label='U')\n",
    "ax1.plot(dirty_profile_data[3, :], 'b', label='V')\n",
    "ax1.legend()\n",
    "ax2.text(20, clean_profile_data.max(), 'Clean data', fontsize='large')\n",
    "ax2.set_xlabel('Pulse phase (bins)')\n",
    "ax2.set_xlim(0, nbin - 1)\n",
    "ax2.set_ylabel('Flux (a.u.)')\n",
    "ax2.set_ylim((clean_min_max_vals.min() * 1.2), clean_min_max_vals.max() + 0.1 * clean_min_max_vals.max())\n",
    "ax2.xaxis.set_ticks(np.arange(0, nbin - 1, 50))\n",
    "ax2_secondary = ax2.twiny()\n",
    "ax2_secondary.set_frame_on(True)\n",
    "ax2_secondary.patch.set_visible(False)\n",
    "ax2_secondary.xaxis.set_ticks_position('bottom')\n",
    "ax2_secondary.set_xlabel('Pulse phase (degrees)')\n",
    "ax2_secondary.xaxis.set_label_position('bottom')\n",
    "ax2_secondary.spines['bottom'].set_position(('outward', 50))\n",
    "ax2_secondary.set_xlim(0, 360)\n",
    "_ = ax2_secondary.xaxis.set_ticks(np.arange(0, 360, 20))\n",
    "ax2.plot(clean_profile_data[0, :], 'k', label='I')\n",
    "ax2.plot(clean_profile_data[1, :], 'r', label='Q')\n",
    "ax2.plot(clean_profile_data[2, :], 'g', label='U')\n",
    "ax2.plot(clean_profile_data[3, :], 'b', label='V')\n",
    "ax2.legend()"
   ]
  },
  {
   "cell_type": "markdown",
   "metadata": {
    "deletable": true,
    "editable": true
   },
   "source": [
    "## Plot subintegration stacks (Coherency data)"
   ]
  },
  {
   "cell_type": "code",
   "execution_count": null,
   "metadata": {
    "collapsed": false,
    "deletable": true,
    "editable": true
   },
   "outputs": [],
   "source": [
    "dirty_stack = archives[0].clone()\n",
    "dirty_stack.dedisperse()\n",
    "dirty_stack.remove_baseline()\n",
    "dirty_stack.centre_max_bin()\n",
    "dirty_stack.fscrunch()\n",
    "dirty_stack.pscrunch()\n",
    "dirty_stack_data = dirty_stack.get_data().squeeze()\n",
    "clean_stack = common_clean_rfi.clone()\n",
    "clean_stack.fscrunch()\n",
    "clean_stack.pscrunch()\n",
    "clean_stack_data = clean_stack.get_data().squeeze()\n",
    "fig, ((ax1, ax2)) = plt.subplots(1, 2, sharey='row', figsize=[15, 10], tight_layout='true')\n",
    "ax1.set_title(source_name)\n",
    "ax1.set_title('Unclean data', loc='left')\n",
    "ax1.set_ylabel('Subint number')\n",
    "ax1.set_xlabel('Pulse phase (bin)')\n",
    "ax1.xaxis.set_ticks(np.arange(0, nbin - 1, 100))\n",
    "ax1_secondary = ax1.twiny()\n",
    "ax1_secondary.set_frame_on(True)\n",
    "ax1_secondary.patch.set_visible(False)\n",
    "ax1_secondary.xaxis.set_ticks_position('bottom')\n",
    "ax1_secondary.set_xlabel('Pulse phase (degrees)')\n",
    "ax1_secondary.xaxis.set_label_position('bottom')\n",
    "ax1_secondary.spines['bottom'].set_position(('outward', 50))\n",
    "ax1_secondary.set_xlim(0, 360)\n",
    "_ = ax1_secondary.xaxis.set_ticks(np.arange(0, 360, 20))\n",
    "ax1.imshow(dirty_stack_data, cmap=cm.afmhot, aspect='auto', vmax=dirty_stack_data.max() * 0.75, interpolation='none', extent=(0, nbin - 1, 0, nsubint - 1))\n",
    "ax2.set_title(source_name)\n",
    "ax2.set_title('Clean data', loc='left')\n",
    "ax2.set_xlabel('Pulse phase (bin)')\n",
    "ax2.xaxis.set_ticks(np.arange(0, nbin - 1, 100))\n",
    "ax2_secondary = ax2.twiny()\n",
    "ax2_secondary.set_frame_on(True)\n",
    "ax2_secondary.patch.set_visible(False)\n",
    "ax2_secondary.xaxis.set_ticks_position('bottom')\n",
    "ax2_secondary.set_xlabel('Pulse phase (degrees)')\n",
    "ax2_secondary.xaxis.set_label_position('bottom')\n",
    "ax2_secondary.spines['bottom'].set_position(('outward', 50))\n",
    "ax2_secondary.set_xlim(0, 360)\n",
    "_ = ax2_secondary.xaxis.set_ticks(np.arange(0, 360, 20))\n",
    "ax2_tertiary = ax2.twinx()\n",
    "ax2_tertiary.yaxis.set_label_position('right')\n",
    "ax2_tertiary.set_ylim(0, obs_duration)\n",
    "ax2_tertiary.set_ylabel('Time (seconds)')\n",
    "ax2.imshow(clean_stack_data, cmap=cm.afmhot, aspect='auto', vmax=clean_stack_data.max() * 0.75, interpolation='none', extent=(0, nbin - 1, 0, nsubint - 1))"
   ]
  },
  {
   "cell_type": "markdown",
   "metadata": {
    "deletable": true,
    "editable": true
   },
   "source": [
    "## Plot phase vs. frequency image of flux (clean Coherency data)"
   ]
  },
  {
   "cell_type": "code",
   "execution_count": null,
   "metadata": {
    "collapsed": false,
    "deletable": true,
    "editable": true
   },
   "outputs": [],
   "source": [
    "coherency_flux_phase = common_clean_rfi.clone()\n",
    "coherency_flux_phase.tscrunch()\n",
    "coherency_flux_phase_data = coherency_flux_phase.get_data().squeeze()\n",
    "fig, ((ax1, ax2), (ax3, ax4)) = plt.subplots(2, 2, sharex='col', sharey='row', figsize=[15, 10], tight_layout='true')\n",
    "fig.suptitle(source_name, fontsize='large', y=1.015)\n",
    "fig.text(0.05, 1.0, 'Clean data', fontsize='large')\n",
    "ax1.set_title('XX')\n",
    "ax1.set_ylabel('Frequency (MHz)')\n",
    "ax1.xaxis.set_ticks(np.arange(0, nbin - 1, 100))\n",
    "ax1.yaxis.set_ticks(np.arange(0, nchan - 1, 50))\n",
    "ax1.imshow(coherency_flux_phase_data[0, :, :], cmap=cm.afmhot, aspect='auto', interpolation='none', extent=(0, nbin - 1.0, low_freq, high_freq))\n",
    "ax2.set_title('YY')\n",
    "ax2.xaxis.set_ticks(np.arange(0, nbin - 1, 100))\n",
    "ax2.yaxis.set_ticks(np.arange(0, nchan - 1, 50))\n",
    "ax2_secondary = ax2.twinx()\n",
    "ax2_secondary.set_ylabel('Channel number')\n",
    "ax2_secondary.set_ylim(0, nchan - 1)\n",
    "ax2_secondary.yaxis.set_ticks(np.arange(0, nchan - 1 , 200))\n",
    "ax2.imshow(coherency_flux_phase_data[1, :, :], cmap=cm.afmhot, aspect='auto', interpolation='none', extent=(0, nbin - 1.0, low_freq, high_freq))\n",
    "ax3.set_title('Re XY')\n",
    "ax3.set_xlabel('Pulse phase (bin)')\n",
    "ax3.set_ylabel('Frequency (MHz)')\n",
    "ax3.xaxis.set_ticks(np.arange(0, nbin - 1, 100))\n",
    "ax3.yaxis.set_ticks(np.arange(0, nchan - 1, 50))\n",
    "ax3_secondary = ax3.twiny()\n",
    "ax3_secondary.set_frame_on(True)\n",
    "ax3_secondary.patch.set_visible(False)\n",
    "ax3_secondary.xaxis.set_ticks_position('bottom')\n",
    "ax3_secondary.set_xlabel('Pulse phase (degrees)')\n",
    "ax3_secondary.xaxis.set_label_position('bottom')\n",
    "ax3_secondary.spines['bottom'].set_position(('outward', 50))\n",
    "ax3_secondary.set_xlim(0, 360)\n",
    "_ = ax3_secondary.xaxis.set_ticks(np.arange(0, 360, 20))\n",
    "ax3.imshow(coherency_flux_phase_data[2, :, :], cmap=cm.afmhot, aspect='auto', interpolation='none', extent=(0, nbin - 1.0, low_freq, high_freq))\n",
    "ax4.set_title('Im XY')\n",
    "ax4.set_xlabel('Pulse phase (bin)')\n",
    "ax4.xaxis.set_ticks(np.arange(0, nbin - 1, 100))\n",
    "ax4.yaxis.set_ticks(np.arange(0, nchan - 1, 50))\n",
    "ax4_secondary = ax4.twinx()\n",
    "ax4_secondary.set_ylabel('Channel number')\n",
    "ax4_secondary.set_ylim(0, nchan - 1)\n",
    "ax4_secondary.yaxis.set_ticks(np.arange(0, nchan - 1 , 200))\n",
    "ax4_tertiary = ax4.twiny()\n",
    "ax4_tertiary.set_frame_on(True)\n",
    "ax4_tertiary.patch.set_visible(False)\n",
    "ax4_tertiary.xaxis.set_ticks_position('bottom')\n",
    "ax4_tertiary.set_xlabel('Pulse phase (degrees)')\n",
    "ax4_tertiary.xaxis.set_label_position('bottom')\n",
    "ax4_tertiary.spines['bottom'].set_position(('outward', 50))\n",
    "ax4_tertiary.set_xlim(0, 360)\n",
    "_ = ax4_tertiary.xaxis.set_ticks(np.arange(0, 360, 20))\n",
    "ax4.imshow(coherency_flux_phase_data[3, :, :], cmap=cm.afmhot, aspect='auto', interpolation='none', extent=(0, nbin - 1.0, low_freq, high_freq))"
   ]
  },
  {
   "cell_type": "markdown",
   "metadata": {
    "deletable": true,
    "editable": true
   },
   "source": [
    "## Plot phase vs. frequency image of flux (clean Stokes data)"
   ]
  },
  {
   "cell_type": "code",
   "execution_count": null,
   "metadata": {
    "collapsed": false,
    "deletable": true,
    "editable": true
   },
   "outputs": [],
   "source": [
    "stokes_flux_phase = common_clean_rfi.clone()\n",
    "stokes_flux_phase.tscrunch()\n",
    "stokes_flux_phase.convert_state('Stokes')\n",
    "stokes_flux_phase_data = stokes_flux_phase.get_data().squeeze()\n",
    "fig, ((ax1, ax2), (ax3, ax4)) = plt.subplots(2, 2, sharex='col', sharey='row', figsize=[15, 10], tight_layout='true')\n",
    "fig.suptitle(source_name, fontsize='large', y=1.01)\n",
    "fig.text(0.05, 1.0, 'Clean data', fontsize='large')\n",
    "ax1.set_title('I')\n",
    "ax1.set_ylabel('Frequency (MHz)')\n",
    "ax1.xaxis.set_ticks(np.arange(0, nbin - 1, 100))\n",
    "ax1.yaxis.set_ticks(np.arange(0, nchan - 1, 50))\n",
    "ax1.imshow(stokes_flux_phase_data[0, :, :], cmap=cm.afmhot, aspect='auto', interpolation='none', extent=(0, nbin - 1.0, low_freq, high_freq))\n",
    "ax2.set_title('Q')\n",
    "ax2.xaxis.set_ticks(np.arange(0, nbin - 1, 100))\n",
    "ax2.yaxis.set_ticks(np.arange(0, nchan - 1, 50))\n",
    "ax2_secondary = ax2.twinx()\n",
    "ax2_secondary.set_ylabel('Channel number')\n",
    "ax2_secondary.set_ylim(0, nchan - 1)\n",
    "ax2_secondary.yaxis.set_ticks(np.arange(0, nchan - 1 , 200))\n",
    "ax2.imshow(stokes_flux_phase_data[1, :, :], cmap=cm.afmhot, aspect='auto', interpolation='none', extent=(0, nbin - 1.0, low_freq, high_freq))\n",
    "ax3.set_title('U')\n",
    "ax3.set_xlabel('Pulse phase (bin)')\n",
    "ax3.set_ylabel('Frequency (MHz)')\n",
    "ax3.xaxis.set_ticks(np.arange(0, nbin - 1, 100))\n",
    "ax3.yaxis.set_ticks(np.arange(0, nchan - 1, 50))\n",
    "ax3_secondary = ax3.twiny()\n",
    "ax3_secondary.set_frame_on(True)\n",
    "ax3_secondary.patch.set_visible(False)\n",
    "ax3_secondary.xaxis.set_ticks_position('bottom')\n",
    "ax3_secondary.set_xlabel('Pulse phase (degrees)')\n",
    "ax3_secondary.xaxis.set_label_position('bottom')\n",
    "ax3_secondary.spines['bottom'].set_position(('outward', 50))\n",
    "ax3_secondary.set_xlim(0, 360)\n",
    "_ = ax3_secondary.xaxis.set_ticks(np.arange(0, 360, 20))\n",
    "ax3.imshow(stokes_flux_phase_data[2, :, :], cmap=cm.afmhot, aspect='auto', interpolation='none', extent=(0, nbin - 1.0, low_freq, high_freq))\n",
    "ax4.set_title('V')\n",
    "ax4.set_xlabel('Pulse phase (bin)')\n",
    "ax4.xaxis.set_ticks(np.arange(0, nbin - 1, 100))\n",
    "ax4.yaxis.set_ticks(np.arange(0, nchan - 1, 50))\n",
    "ax4_secondary = ax4.twinx()\n",
    "ax4_secondary.set_ylabel('Channel number')\n",
    "ax4_secondary.set_ylim(0, nchan - 1)\n",
    "ax4_secondary.yaxis.set_ticks(np.arange(0, nchan - 1 , 200))\n",
    "ax4_tertiary = ax4.twiny()\n",
    "ax4_tertiary.set_frame_on(True)\n",
    "ax4_tertiary.patch.set_visible(False)\n",
    "ax4_tertiary.xaxis.set_ticks_position('bottom')\n",
    "ax4_tertiary.set_xlabel('Pulse phase (degrees)')\n",
    "ax4_tertiary.xaxis.set_label_position('bottom')\n",
    "ax4_tertiary.spines['bottom'].set_position(('outward', 50))\n",
    "ax4_tertiary.set_xlim(0, 360)\n",
    "_ = ax4_tertiary.xaxis.set_ticks(np.arange(0, 360, 20))\n",
    "ax4.imshow(stokes_flux_phase_data[3, :, :], cmap=cm.afmhot, aspect='auto', interpolation='none', extent=(0, nbin - 1.0, low_freq, high_freq))"
   ]
  },
  {
   "cell_type": "markdown",
   "metadata": {
    "deletable": true,
    "editable": true
   },
   "source": [
    "## Plot bandpass (unclean Stokes data)"
   ]
  },
  {
   "cell_type": "code",
   "execution_count": null,
   "metadata": {
    "collapsed": false,
    "deletable": true,
    "editable": true
   },
   "outputs": [],
   "source": [
    "dirty_bandpass = archives[0].clone()\n",
    "dirty_bandpass.tscrunch()\n",
    "(dirty_bandpass_mean, dirty_bandpass_variance) = dirty_bandpass.get_Integration(0).baseline_stats()\n",
    "dirty_bandpass_max_min_vals = np.array([dirty_bandpass_mean[0, :].min(), dirty_bandpass_mean[0, :].max(), dirty_bandpass_mean[1, :].min(), dirty_bandpass_mean[1, :].max()])\n",
    "dirty_bandpass_stokes = archives[0].clone()\n",
    "dirty_bandpass_stokes.convert_state('Stokes')\n",
    "dirty_bandpass_stokes.tscrunch()\n",
    "(dirty_bandpass_stokes_mean, dirty_bandpass_stokes_variance) = dirty_bandpass_stokes.get_Integration(0).baseline_stats()\n",
    "dirty_bandpass_stokes_min_max_vals = np.array([dirty_bandpass_stokes_mean[0, :].min(), dirty_bandpass_stokes_mean[0, :].max()])\n",
    "fig, ((ax1, ax2, ax3 )) = plt.subplots(3, 1, sharex='col', figsize=[15, 10], tight_layout='true')\n",
    "ax1.set_title(source_name)\n",
    "ax1.set_title('Unclean data', loc='left')\n",
    "ax1.text(np.int(nchan * 0.0125), dirty_bandpass_max_min_vals.max() - (0.25 * dirty_bandpass_max_min_vals.max()), 'XX', fontsize='large')\n",
    "ax1.set_xlim(0, nchan - 1)\n",
    "ax1.set_ylabel('Flux (a.u.)')\n",
    "ax1.xaxis.set_ticks(np.arange(0, nchan - 1, 200))\n",
    "ax1.set_yscale('log')\n",
    "ax1.plot(dirty_bandpass_mean[0, :])\n",
    "ax2.text(np.int(nchan * 0.0125), dirty_bandpass_max_min_vals.max() - (0.25 * dirty_bandpass_max_min_vals.max()), 'YY', fontsize='large')\n",
    "ax2.set_xlim(0, nchan - 1)\n",
    "ax2.set_ylabel('Flux (a.u.)')\n",
    "ax2.xaxis.set_ticks(np.arange(0, nchan - 1, 200))\n",
    "ax2.set_yscale('log')\n",
    "ax2.plot(dirty_bandpass_mean[1, :])\n",
    "ax3.text(np.int(nchan*0.0125), dirty_bandpass_max_min_vals.max() - (0.25 * dirty_bandpass_max_min_vals.max()), 'Stokes I', fontsize='large')\n",
    "ax3.set_xlabel('Channel number')\n",
    "ax3.set_ylabel('Flux (a.u.)')\n",
    "ax3.xaxis.set_ticks(np.arange(0, nchan - 1, 200))\n",
    "ax3.set_yscale('log')\n",
    "ax3_secondary = ax3.twiny()\n",
    "ax3_secondary.set_frame_on(True)\n",
    "ax3_secondary.patch.set_visible(False)\n",
    "ax3_secondary.xaxis.set_ticks_position('bottom')\n",
    "ax3_secondary.set_xlabel('Frequency (MHz)')\n",
    "ax3_secondary.xaxis.set_label_position('bottom')\n",
    "ax3_secondary.spines['bottom'].set_position(('outward', 50))\n",
    "ax3_secondary.set_xlim(low_freq, high_freq)\n",
    "_ = ax3_secondary.xaxis.set_ticks(np.arange(np.rint(low_freq), np.rint(high_freq), 50))\n",
    "ax3.plot(dirty_bandpass_stokes_mean[0, :])"
   ]
  },
  {
   "cell_type": "markdown",
   "metadata": {
    "deletable": true,
    "editable": true
   },
   "source": [
    "## Plot bandpass (clean Stokes data)"
   ]
  },
  {
   "cell_type": "code",
   "execution_count": null,
   "metadata": {
    "collapsed": false,
    "deletable": true,
    "editable": true
   },
   "outputs": [],
   "source": [
    "clean_bandpass = clean_rfi.clone()\n",
    "clean_bandpass.tscrunch()\n",
    "(clean_bandpass_mean, clean_bandpass_variance) = clean_bandpass.get_Integration(0).baseline_stats()\n",
    "clean_bandpass_max_min_vals = np.array([clean_bandpass_mean[0, :].min(), clean_bandpass_mean[0, :].max(), clean_bandpass_mean[1, :].min(), clean_bandpass_mean[1, :].max()])\n",
    "clean_bandpass_mean[clean_bandpass_mean == 0.0] = np.nan\n",
    "clean_bandpass_stokes = clean_bandpass.clone()\n",
    "clean_bandpass_stokes.convert_state('Stokes')\n",
    "clean_bandpass_stokes.tscrunch()\n",
    "(clean_bandpass_stokes_mean, clean_bandpass_stokes_variance) = clean_bandpass_stokes.get_Integration(0).baseline_stats()\n",
    "clean_bandpass_stokes_min_max_vals = np.array([clean_bandpass_stokes_mean[0, :].min(), clean_bandpass_stokes_mean[0, :].max()])\n",
    "clean_bandpass_stokes_mean[clean_bandpass_stokes_mean == 0.0] = np.nan\n",
    "fig, ((ax1, ax2, ax3 )) = plt.subplots(3, 1, sharex='col', figsize=[15, 10], tight_layout='true')\n",
    "ax1.set_title(source_name)\n",
    "ax1.set_title('Clean data', loc='left')\n",
    "ax1.text(np.int(nchan * 0.0125), clean_bandpass_max_min_vals.max(), 'XX', fontsize='large')\n",
    "ax1.set_xlim(0, nchan - 1)\n",
    "ax1.set_ylabel('Flux (a.u.)')\n",
    "ax1.set_ylim(clean_bandpass_max_min_vals.min() - (0.1 * np.abs(clean_bandpass_max_min_vals.min())), clean_bandpass_max_min_vals.max() + (0.1 * np.abs(clean_bandpass_max_min_vals.max())))\n",
    "ax1.xaxis.set_ticks(np.arange(0, nchan - 1, 200))\n",
    "ax1.plot(clean_bandpass_mean[0, :])\n",
    "ax2.text(np.int(nchan * 0.0125), clean_bandpass_max_min_vals.max(), 'YY', fontsize='large')\n",
    "ax2.set_xlim(0, nchan - 1)\n",
    "ax2.set_ylabel('Flux (a.u.)')\n",
    "ax2.set_ylim(clean_bandpass_max_min_vals.min() - (0.1 * np.abs(clean_bandpass_max_min_vals.min())), clean_bandpass_max_min_vals.max() + (0.1 * np.abs(clean_bandpass_max_min_vals.max())))\n",
    "ax2.xaxis.set_ticks(np.arange(0, nchan - 1, 200))\n",
    "ax2.plot(clean_bandpass_mean[1, :])\n",
    "ax3.text(np.int(nchan * 0.0125), clean_bandpass_stokes_min_max_vals.max(), 'Stokes I', fontsize='large')\n",
    "ax3.set_xlabel('Channel number')\n",
    "ax3.set_ylabel('Flux (a.u.)')\n",
    "ax3.set_ylim(clean_bandpass_stokes_min_max_vals.min() - (0.1 * np.abs(clean_bandpass_stokes_min_max_vals.min())), clean_bandpass_stokes_min_max_vals.max() + (0.1 * np.abs(clean_bandpass_stokes_min_max_vals.max())))\n",
    "ax3.xaxis.set_ticks(np.arange(0, nchan - 1, 200))\n",
    "ax3_secondary = ax3.twiny()\n",
    "ax3_secondary.set_frame_on(True)\n",
    "ax3_secondary.patch.set_visible(False)\n",
    "ax3_secondary.xaxis.set_ticks_position('bottom')\n",
    "ax3_secondary.set_xlabel('Frequency (MHz)')\n",
    "ax3_secondary.xaxis.set_label_position('bottom')\n",
    "ax3_secondary.spines['bottom'].set_position(('outward', 50))\n",
    "ax3_secondary.set_xlim(low_freq, high_freq)\n",
    "_ = ax3_secondary.xaxis.set_ticks(np.arange(np.rint(low_freq), np.rint(high_freq), 50))\n",
    "ax3.plot(clean_bandpass_stokes_mean[0, :])"
   ]
  },
  {
   "cell_type": "markdown",
   "metadata": {
    "deletable": true,
    "editable": true
   },
   "source": [
    "## Plot dynamic baseline spectrum (unclean Coherency data)"
   ]
  },
  {
   "cell_type": "code",
   "execution_count": null,
   "metadata": {
    "collapsed": false,
    "deletable": true,
    "editable": true
   },
   "outputs": [],
   "source": [
    "dynamic_spectrum = archives[0].clone()\n",
    "mean = np.zeros((nsubint, npol, nchan))\n",
    "variance = np.zeros((nsubint, npol, nchan))\n",
    "for subint in range(nsubint):\n",
    "    m, v = dynamic_spectrum.get_Integration(subint).baseline_stats()\n",
    "    mean[subint] = m[:, :]\n",
    "mean_xx_min = mean[:, 0, :].min()\n",
    "mean_xx_max = mean[:, 0, :].max()\n",
    "mean_yy_min = mean[:, 1, :].min()\n",
    "mean_yy_max = mean[:, 1, :].max()\n",
    "mean_re_xy_min = mean[:, 2, :].min()\n",
    "mean_re_xy_max = mean[:, 2, :].max()\n",
    "mean_im_xy_min = mean[:, 3, :].min()\n",
    "mean_im_xy_max = mean[:, 3, :].max()\n",
    "fig, ((ax1, ax2), (ax3, ax4)) = plt.subplots(2, 2, sharex='col', sharey='row', figsize=[15, 10], tight_layout='true')\n",
    "fig.suptitle(source_name, fontsize='large', y=1.01)\n",
    "fig.text(0.05, 1.0, 'Unclean data', fontsize='large')\n",
    "ax1.set_title('XX')\n",
    "ax1.set_ylabel('Channel number')\n",
    "ax1.yaxis.set_ticks(np.arange(0, nchan - 1, 400))\n",
    "ax1.imshow(mean[:, 0, :].T, origin='lower', aspect='auto', cmap=cm.afmhot, norm=colors.SymLogNorm(10, linscale=1.0, vmin=mean_xx_min, vmax=mean_xx_max), interpolation='none')\n",
    "ax2.set_title('YY')\n",
    "ax2.yaxis.set_ticks(np.arange(0, nchan - 1, 400))\n",
    "ax2_secondary = ax2.twinx()\n",
    "ax2_secondary.set_ylabel('Frequency (MHz)')\n",
    "ax2_secondary.set_ylim(low_freq, high_freq)\n",
    "ax2_secondary.yaxis.set_ticks(np.arange(np.rint(low_freq), np.rint(high_freq), 50))\n",
    "ax2.imshow(mean[:, 1, :].T, origin='lower', aspect='auto', cmap=cm.afmhot, norm=colors.SymLogNorm(10, linscale=1.0, vmin=mean_yy_min, vmax=mean_yy_max), interpolation='none')\n",
    "ax3.set_title('Re XY')\n",
    "ax3.set_xlabel('Subint number')\n",
    "ax3.set_ylabel('Channel number')\n",
    "ax3.yaxis.set_ticks(np.arange(0, nchan - 1, 400))\n",
    "ax3_secondary = ax3.twiny()\n",
    "ax3_secondary.set_frame_on(True)\n",
    "ax3_secondary.patch.set_visible(False)\n",
    "ax3_secondary.xaxis.set_ticks_position('bottom')\n",
    "ax3_secondary.set_xlabel('Time (seconds)')\n",
    "ax3_secondary.xaxis.set_label_position('bottom')\n",
    "ax3_secondary.spines['bottom'].set_position(('outward', 50))\n",
    "ax3_secondary.set_xlim(0, obs_duration)\n",
    "ax3.imshow(mean[:, 2, :].T, origin='lower', aspect='auto', cmap=cm.afmhot, norm=colors.SymLogNorm(10, linscale=1.0, vmin=mean_re_xy_min, vmax=mean_re_xy_max), interpolation='none')\n",
    "ax4.set_title('Im XY')\n",
    "ax4.set_xlabel('Subint number')\n",
    "ax4.yaxis.set_ticks(np.arange(0, nchan - 1, 400))\n",
    "aax4_secondary = ax4.twinx()\n",
    "aax4_secondary.set_ylabel('Frequency (MHz)')\n",
    "aax4_secondary.set_ylim(low_freq, high_freq)\n",
    "aax4_secondary.yaxis.set_ticks(np.arange(np.rint(low_freq), np.rint(high_freq), 50))\n",
    "ax4_tertiary = ax4.twiny()\n",
    "ax4_tertiary.set_frame_on(True)\n",
    "ax4_tertiary.patch.set_visible(False)\n",
    "ax4_tertiary.xaxis.set_ticks_position('bottom')\n",
    "ax4_tertiary.set_xlabel('Time (seconds)')\n",
    "ax4_tertiary.xaxis.set_label_position('bottom')\n",
    "ax4_tertiary.spines['bottom'].set_position(('outward', 50))\n",
    "ax4_tertiary.set_xlim(0, obs_duration)\n",
    "ax4.imshow(mean[:, 3, :].T, origin='lower', aspect='auto', cmap=cm.afmhot, norm=colors.SymLogNorm(10, linscale=1.0, vmin=mean_im_xy_min, vmax=mean_im_xy_max), interpolation='none')"
   ]
  },
  {
   "cell_type": "markdown",
   "metadata": {
    "deletable": true,
    "editable": true
   },
   "source": [
    "## Plot dynamic baseline spectrum (clean Stokes data)"
   ]
  },
  {
   "cell_type": "code",
   "execution_count": null,
   "metadata": {
    "collapsed": false,
    "deletable": true,
    "editable": true
   },
   "outputs": [],
   "source": [
    "dynamic_spectrum = clean_rfi.clone()\n",
    "dynamic_spectrum.convert_state('Stokes')\n",
    "mean = np.zeros((nsubint, npol, nchan))\n",
    "variance = np.zeros((nsubint, npol, nchan))\n",
    "for subint in range(nsubint):\n",
    "    m, v = dynamic_spectrum.get_Integration(subint).baseline_stats()\n",
    "    variance[subint] = v[:, :]\n",
    "variance_xx_min = variance[:, 0, :].min()\n",
    "variance_xx_max = variance[:, 0, :].max()\n",
    "variance_yy_min = variance[:, 1, :].min()\n",
    "variance_yy_max = variance[:, 1, :].max()\n",
    "variance_re_xy_min = variance[:, 2, :].min()\n",
    "variance_re_xy_max = variance[:, 2, :].max()\n",
    "variance_im_xy_min = variance[:, 3, :].min()\n",
    "variance_im_xy_max = variance[:, 3, :].max()\n",
    "fig, ((ax1, ax2), (ax3, ax4)) = plt.subplots(2, 2, sharex='col', sharey='row', figsize=[15, 10], tight_layout='true')\n",
    "fig.suptitle(source_name, fontsize='large', y=1.01)\n",
    "fig.text(0.05, 1.0, 'Clean data', fontsize='large')\n",
    "ax1.set_title('I')\n",
    "ax1.set_ylabel('Channel number')\n",
    "ax1.yaxis.set_ticks(np.arange(0, nchan - 1, 400))\n",
    "ax1.imshow(variance[:, 0, :].T, origin='lower', aspect='auto', cmap=cm.afmhot, norm=colors.Normalize(vmin=variance_xx_min, vmax=variance_xx_max), interpolation='none')\n",
    "ax2.set_title('Q')\n",
    "ax2.yaxis.set_ticks(np.arange(0, nchan - 1, 400))\n",
    "ax2_secondary = ax2.twinx()\n",
    "ax2_secondary.set_ylabel('Frequency (MHz)')\n",
    "ax2_secondary.set_ylim(low_freq, high_freq)\n",
    "ax2_secondary.yaxis.set_ticks(np.arange(np.rint(low_freq), np.rint(high_freq), 50))\n",
    "ax2.imshow(variance[:, 1, :].T, origin='lower', aspect='auto', cmap=cm.afmhot, norm=colors.Normalize(vmin=variance_yy_min, vmax=variance_yy_max), interpolation='none')\n",
    "ax3.set_title('U')\n",
    "ax3.set_xlabel('Subint number')\n",
    "ax3.set_ylabel('Channel number')\n",
    "ax3.yaxis.set_ticks(np.arange(0, nchan - 1, 400))\n",
    "ax3_secondary = ax3.twiny()\n",
    "ax3_secondary.set_frame_on(True)\n",
    "ax3_secondary.patch.set_visible(False)\n",
    "ax3_secondary.xaxis.set_ticks_position('bottom')\n",
    "ax3_secondary.set_xlabel('Time (seconds)')\n",
    "ax3_secondary.xaxis.set_label_position('bottom')\n",
    "ax3_secondary.spines['bottom'].set_position(('outward', 50))\n",
    "ax3_secondary.set_xlim(0, obs_duration)\n",
    "ax3.imshow(variance[:, 2, :].T, origin='lower', aspect='auto', cmap=cm.afmhot, norm=colors.Normalize(vmin=variance_re_xy_min, vmax=variance_re_xy_max), interpolation='none')\n",
    "ax4.set_title('V')\n",
    "ax4.set_xlabel('Subint number')\n",
    "ax4.yaxis.set_ticks(np.arange(0, nchan - 1, 400))\n",
    "ax4_secondary = ax4.twinx()\n",
    "ax4_secondary.set_ylabel('Frequency (MHz)')\n",
    "ax4_secondary.set_ylim(low_freq, high_freq)\n",
    "ax4_secondary.yaxis.set_ticks(np.arange(np.rint(low_freq), np.rint(high_freq), 50))\n",
    "ax4_tertiary = ax4.twiny()\n",
    "ax4_tertiary.set_frame_on(True)\n",
    "ax4_tertiary.patch.set_visible(False)\n",
    "ax4_tertiary.xaxis.set_ticks_position('bottom')\n",
    "ax4_tertiary.set_xlabel('Time (seconds)')\n",
    "ax4_tertiary.xaxis.set_label_position('bottom')\n",
    "ax4_tertiary.spines['bottom'].set_position(('outward', 50))\n",
    "ax4_tertiary.set_xlim(0, obs_duration)\n",
    "ax4.imshow(variance[:, 3, :].T, origin='lower', aspect='auto', cmap=cm.afmhot, norm=colors.Normalize(vmin=variance_im_xy_min, vmax=variance_im_xy_max), interpolation='none')"
   ]
  },
  {
   "cell_type": "markdown",
   "metadata": {
    "deletable": true,
    "editable": true
   },
   "source": [
    "## Plot signal-to-noise ratio vs. subintegration (clean Coherency data)"
   ]
  },
  {
   "cell_type": "code",
   "execution_count": null,
   "metadata": {
    "collapsed": false,
    "deletable": true,
    "editable": true
   },
   "outputs": [],
   "source": [
    "archive_snr = common_clean_rfi.clone()\n",
    "new_integration = archive_snr.get_Integration(0).total()\n",
    "snr_data = np.zeros(nsubint)\n",
    "for i_subintegration in range (1, nsubint):\n",
    "    next_integration = archive_snr.get_Integration(i_subintegration).total()\n",
    "    new_integration.combine(next_integration)\n",
    "    profile = new_integration.get_Profile(0, 0)\n",
    "    snr_data[i_subintegration] = profile.snr()\n",
    "fig, ax1 = plt.subplots(1, 1, sharex='col', sharey='row', figsize=[15, 5], tight_layout='true')\n",
    "fig.suptitle(source_name, fontsize='large', y=1.01)\n",
    "fig.text(0.05, 1.0, 'Clean data', fontsize='large')\n",
    "ax1.set_xlabel('Subint number')\n",
    "ax1.set_ylabel('Signal-to-noise ratio')\n",
    "ax1.set_xlim(0, nsubint)\n",
    "ax1_secondary = ax1.twiny()\n",
    "ax1_secondary.set_frame_on(True)\n",
    "ax1_secondary.patch.set_visible(False)\n",
    "ax1_secondary.xaxis.set_ticks_position('bottom')\n",
    "ax1_secondary.set_xlabel('Time (seconds)')\n",
    "ax1_secondary.xaxis.set_label_position('bottom')\n",
    "ax1_secondary.spines['bottom'].set_position(('outward', 50))\n",
    "ax1_secondary.set_xlim(0, obs_duration)\n",
    "ax1.plot(snr_data)"
   ]
  },
  {
   "cell_type": "code",
   "execution_count": null,
   "metadata": {
    "collapsed": false
   },
   "outputs": [],
   "source": [
    "print 'Report Ended:'\n",
    "!date"
   ]
  }
 ],
 "metadata": {
  "kernelspec": {
   "display_name": "Python 2",
   "language": "python",
   "name": "python2"
  },
  "language_info": {
   "codemirror_mode": {
    "name": "ipython",
    "version": 2
   },
   "file_extension": ".py",
   "mimetype": "text/x-python",
   "name": "python",
   "nbconvert_exporter": "python",
   "pygments_lexer": "ipython2",
   "version": "2.7.12"
  }
 },
 "nbformat": 4,
 "nbformat_minor": 1
}
