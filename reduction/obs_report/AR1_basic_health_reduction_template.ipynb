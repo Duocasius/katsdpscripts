{
 "cells": [
  {
   "cell_type": "code",
   "execution_count": null,
   "metadata": {
    "collapsed": false
   },
   "outputs": [],
   "source": [
    "%pylab inline"
   ]
  },
  {
   "cell_type": "code",
   "execution_count": null,
   "metadata": {
    "collapsed": true
   },
   "outputs": [],
   "source": [
    "from IPython.display import HTML"
   ]
  },
  {
   "cell_type": "code",
   "execution_count": null,
   "metadata": {
    "collapsed": false
   },
   "outputs": [],
   "source": [
    "HTML('''<script>\n",
    "code_show=true; \n",
    "function code_toggle() {\n",
    " if (code_show){\n",
    " $('div.input').hide();\n",
    " } else {\n",
    " $('div.input').show();\n",
    " }\n",
    " code_show = !code_show\n",
    "} \n",
    "$( document ).ready(code_toggle);\n",
    "</script>\n",
    "The raw code for this IPython notebook is by default hidden for easier reading.\n",
    "To toggle on/off the raw code, click <a href=\"javascript:code_toggle()\">here</a>.''')"
   ]
  },
  {
   "cell_type": "code",
   "execution_count": null,
   "metadata": {
    "collapsed": false
   },
   "outputs": [],
   "source": [
    "import katdal\n",
    "import pickle\n",
    "import scikits.fitting as fit\n",
    "import katpoint\n",
    "from katsdpcal import calprocs\n",
    "import logging\n",
    "from katsdpscripts import git_info\n",
    "import scape"
   ]
  },
  {
   "cell_type": "code",
   "execution_count": null,
   "metadata": {
    "collapsed": true
   },
   "outputs": [],
   "source": [
    "pickle_file = open('/var/kat/katsdpscripts/RTS/rfi_mask.pickle')\n",
    "rfi_static_flags = pickle.load(pickle_file)\n",
    "pickle_file.close()\n",
    "edge = np.tile(True,4096)\n",
    "edge[slice(211,3896)] = False\n",
    "static_flags = np.logical_or(edge,rfi_static_flags)"
   ]
  },
  {
   "cell_type": "code",
   "execution_count": null,
   "metadata": {
    "collapsed": true
   },
   "outputs": [],
   "source": [
    "filename = "
   ]
  },
  {
   "cell_type": "code",
   "execution_count": null,
   "metadata": {
    "collapsed": true
   },
   "outputs": [],
   "source": [
    "data = katdal.open(filename)"
   ]
  },
  {
   "cell_type": "code",
   "execution_count": null,
   "metadata": {
    "collapsed": false
   },
   "outputs": [],
   "source": [
    "file_base = filename.split('/')[-1].split('.')[0]\n",
    "nice_filename =  file_base + '_T_sys_T_nd'\n",
    "logger = logging.root\n",
    "logger.setLevel(logging.DEBUG)\n",
    "fh = logging.FileHandler(nice_filename + '.log', 'w')\n",
    "fh.setLevel(logging.DEBUG)\n",
    "fh.setFormatter(logging.Formatter('%(levelname)s: %(message)s'))\n",
    "logger.addHandler(fh)\n",
    "logger.info('Beginning data processing with:\\n%s'%git_info('standard'))\n"
   ]
  },
  {
   "cell_type": "markdown",
   "metadata": {},
   "source": [
    "# Data details"
   ]
  },
  {
   "cell_type": "code",
   "execution_count": null,
   "metadata": {
    "collapsed": false
   },
   "outputs": [],
   "source": [
    "print data"
   ]
  },
  {
   "cell_type": "code",
   "execution_count": null,
   "metadata": {
    "collapsed": false
   },
   "outputs": [],
   "source": [
    "def activity(h5,state = 'track'):\n",
    "    \"\"\"Activity Sensor because some of antennas have a mind of their own, \n",
    "    others appear to have lost theirs entirely \"\"\"\n",
    "    antlist = [a.name for a in h5.ants]\n",
    "    activityV = np.zeros((len(antlist),h5.shape[0]) ,dtype=np.bool)\n",
    "    for i,ant in enumerate(antlist) :\n",
    "        sensor = h5.sensor['Antennas/%s/activity'%(ant)]\n",
    "        activityV[i,:] +=   (sensor==state)\n",
    "    return np.all(activityV,axis=0)\n",
    "\n",
    "def w_average(arr,axis=None, weights=None):\n",
    "    return np.nansum(arr*weights,axis=axis)/np.nansum(weights,axis=axis)\n",
    "\n",
    "def reduce_compscan_inf(h5 ,channel_mask = None,chunks=16,return_raw=False):\n",
    "    \"\"\"Break the band up into chunks\"\"\"\n",
    "    chunk_size = chunks\n",
    "    rfi_static_flags = np.tile(False, h5.shape[0])\n",
    "    if len(channel_mask)>0:\n",
    "        pickle_file = open(channel_mask)\n",
    "        rfi_static_flags = pickle.load(pickle_file)\n",
    "        pickle_file.close()\n",
    "    gains_p = {}\n",
    "    stdv = {}\n",
    "    calibrated = False # placeholder for calibration\n",
    "    #if not return_raw:     # Calculate average target flux over entire band\n",
    "    target = h5.catalogue.targets[h5.target_indices[0]]\n",
    "    flux_spectrum = h5.catalogue.targets[h5.target_indices[0]].flux_density(h5.freqs) # include flags\n",
    "    average_flux = np.mean([flux for flux in flux_spectrum if not np.isnan(flux)])\n",
    "    temperature = np.mean(h5.temperature)\n",
    "    pressure = np.mean(h5.pressure)\n",
    "    humidity = np.mean(h5.humidity)\n",
    "    wind_speed = np.mean(h5.wind_speed)\n",
    "    wind_direction  = np.degrees(np.angle(np.mean(np.exp(1j*np.radians(h5.wind_direction)))) )# Vector Mean\n",
    "    sun = katpoint.Target('Sun, special')\n",
    "    # Calculate pointing offset\n",
    "    # Obtain middle timestamp of compound scan, where all pointing calculations are done\n",
    "    middle_time = np.median(h5.timestamps[:], axis=None)\n",
    "    # Start with requested (az, el) coordinates, as they apply at the middle time for a moving target\n",
    "    requested_azel = target.azel(middle_time)\n",
    "    # Correct for refraction, which becomes the requested value at input of pointing model\n",
    "    rc = katpoint.RefractionCorrection()\n",
    "    requested_azel = [requested_azel[0], rc.apply(requested_azel[1], temperature, pressure, humidity)]\n",
    "    requested_azel = katpoint.rad2deg(np.array(requested_azel))\n",
    "\n",
    "   \n",
    "    gaussian_centre     = np.zeros((chunk_size* 2,2,len(h5.ants)) )\n",
    "    gaussian_centre_std = np.zeros((chunk_size* 2,2,len(h5.ants)) )\n",
    "    gaussian_width      = np.zeros((chunk_size* 2,2,len(h5.ants)) )\n",
    "    gaussian_width_std  = np.zeros((chunk_size* 2,2,len(h5.ants)) )\n",
    "    gaussian_height     = np.zeros((chunk_size* 2,len(h5.ants)) )\n",
    "    gaussian_height_std = np.zeros((chunk_size* 2,len(h5.ants)) )\n",
    "    h5.antlist = [a.name for a in h5.ants]\n",
    "    h5.bls_lookup = calprocs.get_bls_lookup(h5.antlist,h5.corr_products)\n",
    "    pols = [\"H\",\"V\"] # Put in logic for Intensity\n",
    "    for i,pol in enumerate(pols) :\n",
    "        gains_p[pol] = []\n",
    "        pos = []\n",
    "        stdv[pol] = []\n",
    "        h5.select(pol=pol)\n",
    "        h5.bls_lookup = calprocs.get_bls_lookup(h5.antlist,h5.corr_products)\n",
    "        for scan in h5.scans() : \n",
    "            valid_index = activity(h5,state = 'track')\n",
    "            data = h5.vis[valid_index]\n",
    "            if data.shape[0] > 0 : # need at least one data point\n",
    "                gains_p[pol].append(calprocs.g_fit(data[:,:,:].mean(axis=0),h5.bls_lookup,refant=0) )\n",
    "                stdv[pol].append(np.ones((data.shape[0],data.shape[1],len(h5.ants))).sum(axis=0))#number of data points\n",
    "                # Get coords in (x(time,ants),y(time,ants) coords) \n",
    "                pos.append( [h5.target_x[valid_index,:].mean(axis=0), h5.target_y[valid_index,:].mean(axis=0)] ) \n",
    "        for ant in range(len(h5.ants)):\n",
    "            for chunk in range(chunks):\n",
    "                if np.array(pos).shape[0] > 4 : # Make sure there is enough data for a fit\n",
    "                    freq = slice(chunk*(h5.shape[1]//chunks),(chunk+1)*(h5.shape[1]//chunks))\n",
    "                    rfi = ~rfi_static_flags[freq]   \n",
    "                    fitobj  = fit.GaussianFit(np.array(pos)[:,:,ant].mean(axis=0),[1.,1.],1)\n",
    "                    x = np.column_stack((np.array(pos)[:,0,ant],np.array(pos)[:,1,ant]))\n",
    "                    y = np.abs(np.array(gains_p[pol])[:,freq,:][:,rfi,ant]).mean(axis=1)\n",
    "                    y_err = 1./np.sqrt(np.array(stdv[pol])[:,freq,:][:,rfi,ant].sum(axis=1))\n",
    "                    gaussian = fitobj.fit(x.T,y,y_err ) \n",
    "                    #Fitted beam center is in (x, y) coordinates, in projection centred on target\n",
    "                    snr = np.abs(np.r_[gaussian.std/gaussian.std_std])\n",
    "                    valid_fit = np.all(np.isfinite(np.r_[gaussian.mean,gaussian.std_mean,gaussian.std,gaussian.std_std,gaussian.height,gaussian.std_height,snr]))\n",
    "                    theta =  np.sqrt((gaussian.mean**2).sum())  # this is to see if the co-ord is out of range\n",
    "                    #The valid fit is needed because I have no way of working out if the gain solution was ok.\n",
    "                    if  not valid_fit or np.any(theta > np.pi) : # the checks to see if the fit is ok\n",
    "                        gaussian_centre[chunk+i*chunk_size,:,ant]     =  np.nan\n",
    "                        gaussian_centre_std[chunk+i*chunk_size,:,ant] =  np.nan\n",
    "                        gaussian_width[chunk+i*chunk_size,:,ant]      =  np.nan\n",
    "                        gaussian_width_std[chunk+i*chunk_size,:,ant]  =  np.nan\n",
    "                        gaussian_height[chunk+i*chunk_size,ant]       =  np.nan\n",
    "                        gaussian_height_std[chunk+i*chunk_size,ant]   =  np.nan\n",
    "                    else:\n",
    "                        # Convert this offset back to spherical (az, el) coordinates\n",
    "                        beam_center_azel = target.plane_to_sphere(np.radians(gaussian.mean[0]), np.radians(gaussian.mean[1]), middle_time)\n",
    "                        # Now correct the measured (az, el) for refraction and then apply the old pointing model\n",
    "                        # to get a \"raw\" measured (az, el) at the output of the pointing model\n",
    "                        beam_center_azel = [beam_center_azel[0], rc.apply(beam_center_azel[1], temperature, pressure, humidity)]\n",
    "                        beam_center_azel = h5.ants[ant].pointing_model.apply(*beam_center_azel)\n",
    "                        beam_center_azel = np.degrees(np.array(beam_center_azel))\n",
    "                        gaussian_centre[chunk+i*chunk_size,:,ant]     = beam_center_azel\n",
    "                        gaussian_centre_std[chunk+i*chunk_size,:,ant] = gaussian.std_mean\n",
    "                        gaussian_width[chunk+i*chunk_size,:,ant]      = gaussian.std\n",
    "                        gaussian_width_std[chunk+i*chunk_size,:,ant]  = gaussian.std_std\n",
    "                        gaussian_height[chunk+i*chunk_size,ant]       = gaussian.height\n",
    "                        gaussian_height_std[chunk+i*chunk_size,ant]   = gaussian.std_height\n",
    "\n",
    "    if return_raw :\n",
    "        return np.r_[gaussian_centre , gaussian_centre_std , gaussian_width , gaussian_width_std , gaussian_height , gaussian_height_std]\n",
    "    else:\n",
    "        ant_pointing = {}\n",
    "        pols = [\"HH\",\"VV\",'I']\n",
    "        pol_ind = {}\n",
    "        pol_ind['HH'] = np.arange(0.0*chunk_size,1.0*chunk_size,dtype=int)\n",
    "        pol_ind['VV'] = np.arange(1.0*chunk_size,2.0*chunk_size,dtype=int) \n",
    "        pol_ind['I']  = np.arange(0.0*chunk_size,2.0*chunk_size,dtype=int) \n",
    "        for ant in range(len(h5.ants)):\n",
    "            if np.any(np.isfinite(w_average(gaussian_centre[:,:,ant],axis=0,weights=1./gaussian_centre_std[:,:,ant]**2)) ) : # a bit overboard\n",
    "                name = h5.ants[ant].name\n",
    "                ant_pointing[name] = {}\n",
    "                ant_pointing[name][\"antenna\"] = h5.ants[ant].name\n",
    "                ant_pointing[name][\"dataset\"] = h5.name.split('/')[-1].split('.')[0]\n",
    "                ant_pointing[name][\"target\"] = target.name\n",
    "                ant_pointing[name][\"timestamp_ut\"] =str(katpoint.Timestamp(middle_time))\n",
    "                ant_pointing[name][\"data_unit\"] = 'Jy' if calibrated else 'counts'\n",
    "                ant_pointing[name][\"frequency\"] = h5.freqs.mean()\n",
    "                ant_pointing[name][\"flux\"] = average_flux\n",
    "                ant_pointing[name][\"temperature\"] =temperature\n",
    "                ant_pointing[name][\"pressure\"] =pressure\n",
    "                ant_pointing[name][\"humidity\"] =humidity\n",
    "                ant_pointing[name][\"wind_speed\"] =wind_speed\n",
    "                ant_pointing[name][\"wind_direction\"] =wind_direction\n",
    "                # work out the sun's angle\n",
    "                sun_azel = katpoint.rad2deg(np.array(sun.azel(middle_time,antenna=h5.ants[ant])))  \n",
    "                ant_pointing[name][\"sun_az\"] = sun_azel.tolist()[0]\n",
    "                ant_pointing[name][\"sun_el\"] = sun_azel.tolist()[1]\n",
    "                ant_pointing[name][\"timestamp\"] =middle_time.astype(int)\n",
    "                #Work out the Target position and the requested position\n",
    "                # Start with requested (az, el) coordinates, as they apply at the middle time for a moving target\n",
    "                requested_azel = target.azel(middle_time,antenna=h5.ants[ant])\n",
    "                # Correct for refraction, which becomes the requested value at input of pointing model\n",
    "                rc = katpoint.RefractionCorrection()\n",
    "                requested_azel = [requested_azel[0], rc.apply(requested_azel[1], temperature, pressure, humidity)]\n",
    "                requested_azel = katpoint.rad2deg(np.array(requested_azel))\n",
    "                target_azel = katpoint.rad2deg(np.array(target.azel(middle_time,antenna=h5.ants[ant])))  \n",
    "                ant_pointing[name][\"azimuth\"] =target_azel.tolist()[0]\n",
    "                ant_pointing[name][\"elevation\"] =target_azel.tolist()[1]\n",
    "                azel_beam = w_average(gaussian_centre[pol_ind[\"I\"],:,ant],axis=0,weights=1./gaussian_centre_std[pol_ind[\"I\"],:,ant]**2)\n",
    "                # Make sure the offset is a small angle around 0 degrees\n",
    "                offset_azel = katpoint.wrap_angle(azel_beam - requested_azel, 360.)\n",
    "                ant_pointing[name][\"delta_azimuth\"] =offset_azel.tolist()[0]\n",
    "                ant_pointing[name][\"delta_elevation\"] =offset_azel.tolist()[1]\n",
    "                ant_pointing[name][\"delta_elevation_std\"] =0.0#calc\n",
    "                ant_pointing[name][\"delta_azimuth_std\"] =0.0#calc\n",
    "                for pol in pol_ind:\n",
    "                    ant_pointing[name][\"beam_height_%s\"%(pol)]     = w_average(gaussian_height[pol_ind[pol],ant],axis=0,weights=1./gaussian_height_std[pol_ind[pol],ant]**2)\n",
    "                    ant_pointing[name][\"beam_height_%s_std\"%(pol)] = np.sqrt(np.nansum(1./gaussian_height_std[pol_ind[pol],ant]**2) )\n",
    "                    ant_pointing[name][\"beam_width_%s\"%(pol)]      = w_average(gaussian_width[pol_ind[pol],:,ant],axis=0,weights=1./gaussian_width_std[pol_ind[pol],:,ant]**2).mean() \n",
    "                    ant_pointing[name][\"beam_width_%s_std\"%(pol)]  = np.sqrt(np.nansum(1./gaussian_width_std[pol_ind[pol],:,ant]**2) )\n",
    "                    ant_pointing[name][\"baseline_height_%s\"%(pol)] = 0.0\n",
    "                    ant_pointing[name][\"baseline_height_%s_std\"%(pol)] = 0.0\n",
    "                    ant_pointing[name][\"refined_%s\"%(pol)] =  5.0  # I don't know what this means \n",
    "                    ant_pointing[name][\"azimuth_%s\"%(pol)]       =w_average(gaussian_centre[pol_ind[pol],0,ant],axis=0,weights=1./gaussian_centre_std[pol_ind[pol],0,ant]**2)\n",
    "                    ant_pointing[name][\"elevation_%s\"%(pol)]     =w_average(gaussian_centre[pol_ind[pol],1,ant],axis=0,weights=1./gaussian_centre_std[pol_ind[pol],1,ant]**2)\n",
    "                    ant_pointing[name][\"azimuth_%s_std\"%(pol)]   =np.sqrt(np.nansum(1./gaussian_centre_std[pol_ind[pol],0,ant]**2) )\n",
    "                    ant_pointing[name][\"elevation_%s_std\"%(pol)] =np.sqrt(np.nansum(1./gaussian_centre_std[pol_ind[pol],1,ant]**2) )\n",
    "\n",
    "        return ant_pointing\n"
   ]
  },
  {
   "cell_type": "code",
   "execution_count": null,
   "metadata": {
    "collapsed": false
   },
   "outputs": [],
   "source": [
    "def plot_bpcal_selection(f,corrprods='cross',compscans=[0], scans='track',channels=~static_flags):\n",
    "    fig = plt.figure(figsize=(15,15))\n",
    "    plt.suptitle(\"Phaseup for %s\"%data.start_time.local(),fontsize=16, fontweight=\"bold\")    \n",
    "    try:\n",
    "        for pol in 'hv':\n",
    "            f.select(corrprods='cross',compscans=compscans, scans=scans,pol=pol,channels=channels)\n",
    "            ts = data.timestamps - data.timestamps[0]\n",
    "            if f.shape[0] == 0:\n",
    "                raise ObsReporterError('The selection criteria resulted in an empty data set.')\n",
    "            crosscorr = [(f.inputs.index(inpA), f.inputs.index(inpB)) for inpA, inpB in f.corr_products]\n",
    "            #extract the fringes\n",
    "            vis = f.vis[:,:,:]\n",
    "            #For plotting the fringes\n",
    "            fig.subplots_adjust(wspace=0., hspace=0.)\n",
    "            #debug_here()\n",
    "            for n, (indexA, indexB) in enumerate(crosscorr):\n",
    "                subplot_index = (len(f.ants) * indexA + indexB + 1) if pol == 'h' else (indexA + len(f.ants) * indexB + 1)\n",
    "                ax = fig.add_subplot(len(f.ants), len(f.ants), subplot_index)\n",
    "                ax.imshow(angle(vis[:,:,n]),aspect=float(vis.shape[1])/vis.shape[0])\n",
    "                ax.set_xticks([])\n",
    "                ax.set_yticks([])\n",
    "                if pol == 'h':\n",
    "                    if indexA == 0:\n",
    "                        ax.xaxis.set_label_position('top')\n",
    "                        ax.set_xlabel(f.inputs[indexB][:],size='xx-large')\n",
    "                    if indexB == len(f.ants) - 1:\n",
    "                       ax.yaxis.set_label_position('right')\n",
    "                       ax.set_ylabel(f.inputs[indexA][:], rotation='horizontal',size = 'xx-large')\n",
    "                else:\n",
    "                    if indexA == 0:\n",
    "                        ax.set_ylabel(f.inputs[indexB][:], rotation='horizontal',size='xx-large')\n",
    "                    if indexB == len(f.ants) - 1:\n",
    "                        ax.set_xlabel(f.inputs[indexA][:],size='xx-large')\n",
    "    except ObsReporterError, error:\n",
    "           print 'Failed with selection: f.shape=%s. Error: %s' % (str(f.shape), error)\n",
    "    except KeyError, error:\n",
    "            print 'Failed to read scans from File: %s with Key Error: %s' % (f, error)\n",
    "    except ValueError, error:\n",
    "            print 'Failed to read scans from File: %s with Value Error: %s' % (f, error)\n"
   ]
  },
  {
   "cell_type": "markdown",
   "metadata": {},
   "source": [
    "# Phase up results"
   ]
  },
  {
   "cell_type": "code",
   "execution_count": null,
   "metadata": {
    "collapsed": false
   },
   "outputs": [],
   "source": [
    "data.select()\n",
    "plot_bpcal_selection(data,corrprods='cross',compscans=['calibration'], scans='track',channels=~static_flags)"
   ]
  },
  {
   "cell_type": "markdown",
   "metadata": {},
   "source": [
    "# Tsys results"
   ]
  },
  {
   "cell_type": "code",
   "execution_count": null,
   "metadata": {
    "collapsed": false,
    "scrolled": false
   },
   "outputs": [],
   "source": [
    "figure(1,figsize=(15,5))\n",
    "data.select()\n",
    "ants = data.ants\n",
    "for pol in 'hv':\n",
    "    for ant in ants:\n",
    "        try:\n",
    "            rx_sn = data.receivers[ant]\n",
    "        except KeyError:\n",
    "            logger.error('Receiver serial number for antennna %s not found in the H5 file'%ant.name)\n",
    "            rx_sn = 'SN_NOT_FOUND'\n",
    "        diode_filename = '/var/kat/katconfig/user/noise-diode-models/mkat/rx.'+rx_sn+'.'+pol+'.csv'\n",
    "        logger.info('Loading noise diode file %s from config'%diode_filename)\n",
    "        try:\n",
    "            nd = scape.gaincal.NoiseDiodeModel(diode_filename)\n",
    "        except:\n",
    "            logger.error(\"Error reading the noise diode file ... using a constant value of 20k\")\n",
    "            logger.error(\"Be sure to reprocess the data once the file is in the config\")\n",
    "            nd = scape.gaincal.NoiseDiodeModel(freq=[856,1712],temp=[20,20])\n",
    "        data.select(ants=ant.name,corrprods='auto',pol=pol,channels=~static_flags,compscans=['coupler'])\n",
    "        figure(2,figsize=(15,5))\n",
    "        d = scape.DataSet(data)\n",
    "        scape.plot_xyz(d,'time','amp',label='Average of the data')\n",
    "        on = data.sensor['Antennas/'+ant.name+'/nd_coupler']\n",
    "        ts = data.timestamps - data.timestamps[0]\n",
    "        plt.plot(ts,np.array(on).astype(float)*4000,'g',label='katdal ND sensor')\n",
    "        plt.title(\"Timeseries for all antennas - %s\"%(git_info()))\n",
    "        figure(1)\n",
    "        freq = data.channel_freqs\n",
    "        nd_temp = nd.temperature(freq / 1e6)\n",
    "        vis = data.vis[:]\n",
    "        on = data.sensor['Antennas/'+ant.name+'/nd_coupler']\n",
    "        on[0] = False\n",
    "        n_on = np.tile(False,on.shape[0])\n",
    "        n_off = np.tile(False,on.shape[0])\n",
    "        buff = 1\n",
    "        if not any(on):\n",
    "            logger.critical('No noise diode fired during track of')\n",
    "        else:\n",
    "            jumps = (np.diff(on).nonzero()[0] + 1).tolist()\n",
    "            n_on[slice(jumps[0]+buff,jumps[1]-buff)] = True\n",
    "            n_off[slice(jumps[1]+buff,-buff)] = True\n",
    "        spec = np.mean(vis[n_off,:,0],0)\n",
    "        nd_spec = np.mean(vis[n_on,:,0],0)\n",
    "        jump = nd_spec - spec\n",
    "        Tsys = spec * nd_temp/(jump)\n",
    "        p = 1 if pol == 'h' else 2\n",
    "        p_title = 'H Pol' if pol == 'h' else 'V Pol'\n",
    "        subplot(1,2,p)\n",
    "        norm = Normalize(0,64)\n",
    "        color = cm.brg(norm(int(ant.name[1:])))\n",
    "        ax = gca()\n",
    "        plot(freq/1e6,Tsys,'.',color=color,label=ant.name)\n",
    "        ylim(10,30)\n",
    "        grid()\n",
    "        title(p_title)\n",
    "        ylabel('Tsys/[K]')\n",
    "        xlabel('freq/[MHz]')\n",
    "        \n",
    "fig = pyplot.figure(0,figsize=(15, 3))\n",
    "ax1 = fig.add_axes([0.05, 0.80, 0.9, 0.15])\n",
    "cmap = mpl.cm.brg\n",
    "norm = mpl.colors.Normalize(vmin=0, vmax=63)\n",
    "cb1 = mpl.colorbar.ColorbarBase(ax1,cmap=cmap,norm=norm,orientation='horizontal')\n",
    "cb1.set_label('Antenna colors')"
   ]
  },
  {
   "cell_type": "markdown",
   "metadata": {},
   "source": [
    "# Pointing results"
   ]
  },
  {
   "cell_type": "code",
   "execution_count": null,
   "metadata": {
    "collapsed": false
   },
   "outputs": [],
   "source": [
    "data.select()\n",
    "data.select(compscans=['interferometric_pointing'],channels=~static_flags)\n",
    "res = reduce_compscan_inf(data,\"/var/kat/katsdpscripts/RTS/rfi_mask.pickle\")"
   ]
  },
  {
   "cell_type": "code",
   "execution_count": null,
   "metadata": {
    "collapsed": false,
    "scrolled": false
   },
   "outputs": [],
   "source": [
    "figure(0,figsize=(15,5))\n",
    "data.select()\n",
    "ants = data.ants\n",
    "for ant in ants:\n",
    "    data.select(ants=ant.name,compscans=['raster'], scans='scan',channels=~static_flags)\n",
    "    for c in data.compscans():\n",
    "        norm = Normalize(0,64)\n",
    "        color = cm.brg(norm(int(ant.name[1:])))\n",
    "        d = scape.DataSet(data)\n",
    "        for i in range(len(d.scans)):\n",
    "            d.scans[i].data = scape.stats.remove_spikes(d.scans[i].data,axis=1,spike_width=3,outlier_sigma=5.)    \n",
    "        d.average()\n",
    "        d.fit_beams_and_baselines()\n",
    "        compscan = d.compscans[0]\n",
    "        if compscan.beam == None:\n",
    "            continue\n",
    "        figure(figsize=(15,5))\n",
    "        #scape.plot_compound_scan_on_target(compscan)\n",
    "        scape.plot_xyz(compscan,'target_x','target_y','amp',color=color,labels='')\n",
    "        ax = gca()\n",
    "        el = matplotlib.patches.Ellipse((0,0), 5./60, 5./60, facecolor='y', alpha=0.9)\n",
    "        ax.add_artist(el)\n",
    "        plot([rad2deg(compscan.beam.center[0])], [rad2deg(compscan.beam.center[1])],\n",
    "                'ko',label='Single Dish')\n",
    "        title('Antenna: %s Beamfit valid: %s'%(ant.name,str(compscan.beam.is_valid)))\n",
    "        \n",
    "        target = data.catalogue.targets[data.target_indices[0]]\n",
    "        temperature = np.mean(data.temperature)\n",
    "        pressure = np.mean(data.pressure)\n",
    "        humidity = np.mean(data.humidity)\n",
    "        middle_time = np.median(data.timestamps[:], axis=None)\n",
    "        # Start with requested (az, el) coordinates, as they apply at the middle time for a moving target\n",
    "        requested_azel = katpoint.rad2deg(array(target.azel(middle_time)))\n",
    "        # Correct for refraction, which becomes the requested value at input of pointing model\n",
    "        rc = katpoint.RefractionCorrection()\n",
    "    \n",
    "        beam_center_xy = compscan.beam.center\n",
    "        # Convert this offset back to spherical (az, el) coordinates\n",
    "        beam_center_azel = compscan.target.plane_to_sphere(beam_center_xy[0], beam_center_xy[1], middle_time)\n",
    "        # Now correct the measured (az, el) for refraction and then apply the old pointing model\n",
    "        # to get a \"raw\" measured (az, el) at the output of the pointing model\n",
    "        beam_center_azel = [beam_center_azel[0], rc.apply(beam_center_azel[1], temperature, pressure, humidity)]\n",
    "        beam_center_azel = compscan.dataset.antenna.pointing_model.apply(*beam_center_azel)\n",
    "        beam_center_azel = katpoint.rad2deg(np.array(beam_center_azel))\n",
    "        # Make sure the offset is a small angle around 0 degrees\n",
    "        offset_azel = scape.stats.angle_wrap(beam_center_azel - requested_azel, 360.)\n",
    "        \n",
    "        \n",
    "        int_offset_azel = [res[ant.name]['delta_azimuth'],res[ant.name]['delta_elevation']]\n",
    "        int_beam_center_azel = scape.stats.angle_wrap(int_offset_azel + requested_azel, 360.)\n",
    "        int_beam_center_azel = katpoint.deg2rad(np.array(int_beam_center_azel))\n",
    "        int_beam_center_azel = compscan.dataset.antenna.pointing_model.reverse(*int_beam_center_azel)\n",
    "        int_beam_center_azel = [int_beam_center_azel[0], rc.reverse(int_beam_center_azel[1], temperature, pressure, humidity)]\n",
    "        int_beam_center_xy = compscan.target.sphere_to_plane(int_beam_center_azel[0], int_beam_center_azel[1], middle_time)\n",
    "        plot([rad2deg(int_beam_center_xy[0])], [rad2deg(int_beam_center_xy[1])],\n",
    "                'k*',label='Interferometric')\n",
    "        legend()\n",
    "        grid()\n",
    "        print 'Azimith: ',ant.name,offset_azel[0],res[ant.name]['delta_azimuth']\n",
    "        print 'Elevation: ',ant.name,offset_azel[1],res[ant.name]['delta_elevation']\n",
    "        print \"---\"\n",
    "\n",
    "fig = pyplot.figure(0,figsize=(15, 3))\n",
    "ax1 = fig.add_axes([0.05, 0.80, 0.9, 0.15])\n",
    "cmap = mpl.cm.brg\n",
    "norm = mpl.colors.Normalize(vmin=0, vmax=63)\n",
    "cb1 = mpl.colorbar.ColorbarBase(ax1,cmap=cmap,norm=norm,orientation='horizontal')\n",
    "cb1.set_label('Antenna colors')"
   ]
  },
  {
   "cell_type": "code",
   "execution_count": null,
   "metadata": {
    "collapsed": false
   },
   "outputs": [],
   "source": [
    "print 'Report generated:'\n",
    "!date\n",
    "print '-----------------'\n",
    "print git_info(['scape','katdal','katpoint','katsdpscripts'])"
   ]
  }
 ],
 "metadata": {
  "kernelspec": {
   "display_name": "Python 2",
   "language": "python",
   "name": "python2"
  },
  "language_info": {
   "codemirror_mode": {
    "name": "ipython",
    "version": 2
   },
   "file_extension": ".py",
   "mimetype": "text/x-python",
   "name": "python",
   "nbconvert_exporter": "python",
   "pygments_lexer": "ipython2",
   "version": "2.7.6"
  }
 },
 "nbformat": 4,
 "nbformat_minor": 0
}
