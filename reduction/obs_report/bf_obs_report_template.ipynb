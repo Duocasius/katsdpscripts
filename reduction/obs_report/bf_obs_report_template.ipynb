{
 "cells": [
  {
   "cell_type": "code",
   "execution_count": null,
   "metadata": {
    "collapsed": false
   },
   "outputs": [],
   "source": [
    "print 'Report Started:'\n",
    "!date"
   ]
  },
  {
   "cell_type": "markdown",
   "metadata": {
    "deletable": true,
    "editable": true
   },
   "source": [
    "# Beamformer observation report"
   ]
  },
  {
   "cell_type": "markdown",
   "metadata": {
    "deletable": true,
    "editable": true
   },
   "source": [
    "## Files to be processed"
   ]
  },
  {
   "cell_type": "code",
   "execution_count": null,
   "metadata": {
    "collapsed": true,
    "deletable": true,
    "editable": true
   },
   "outputs": [],
   "source": [
    "directory = "
   ]
  },
  {
   "cell_type": "markdown",
   "metadata": {
    "deletable": true,
    "editable": true
   },
   "source": [
    "## Set up environment"
   ]
  },
  {
   "cell_type": "code",
   "execution_count": null,
   "metadata": {
    "collapsed": false,
    "deletable": true,
    "editable": true
   },
   "outputs": [],
   "source": [
    "%pylab inline"
   ]
  },
  {
   "cell_type": "code",
   "execution_count": null,
   "metadata": {
    "collapsed": false,
    "deletable": true,
    "editable": true
   },
   "outputs": [],
   "source": [
    "import os\n",
    "import sys\n",
    "import numpy as np\n",
    "from matplotlib import cm\n",
    "from matplotlib import colors\n",
    "import psrchive as psr\n",
    "from coast_guard import cleaners\n",
    "from coast_guard import clean_utils\n",
    "from coast_guard import utils"
   ]
  },
  {
   "cell_type": "markdown",
   "metadata": {
    "deletable": true,
    "editable": true
   },
   "source": [
    "## Load data"
   ]
  },
  {
   "cell_type": "code",
   "execution_count": null,
   "metadata": {
    "collapsed": false,
    "deletable": true,
    "editable": true,
    "scrolled": false
   },
   "outputs": [],
   "source": [
    "files = []\n",
    "directory = directory + '/'\n",
    "for file in os.listdir(directory):\n",
    "    if file.endswith('.ar'):\n",
    "        files.append(file)\n",
    "files.sort()\n",
    "archives = []\n",
    "archives = [psr.Archive_load(directory + file) for file in files]\n",
    "print archives[0]\n",
    "for i in range(1, len(archives)):\n",
    "    print archives[i]\n",
    "    archives[0].append(archives[i])"
   ]
  },
  {
   "cell_type": "markdown",
   "metadata": {
    "deletable": true,
    "editable": true
   },
   "source": [
    "## Display metadata"
   ]
  },
  {
   "cell_type": "code",
   "execution_count": null,
   "metadata": {
    "collapsed": true,
    "deletable": true,
    "editable": true
   },
   "outputs": [],
   "source": [
    "nBin = archives[0].get_nbin()\n",
    "nChan = archives[0].get_nchan()\n",
    "nPol = archives[0].get_npol()\n",
    "nSubint = archives[0].get_nsubint()\n",
    "obsType = archives[0].get_type()\n",
    "telescopeName = archives[0].get_telescope()\n",
    "sourceName = archives[0].get_source()\n",
    "RA = archives[0].get_coordinates().ra()\n",
    "Dec = archives[0].get_coordinates().dec()\n",
    "centreFrequency = archives[0].get_centre_frequency()\n",
    "bandwidth = archives[0].get_bandwidth()\n",
    "DM = archives[0].get_dispersion_measure()\n",
    "RM = archives[0].get_rotation_measure()\n",
    "isDedispersed = archives[0].get_dedispersed()\n",
    "isFaradayRotated = archives[0].get_faraday_corrected()\n",
    "isPolCalib = archives[0].get_poln_calibrated()\n",
    "dataUnits = archives[0].get_scale()\n",
    "dataState = archives[0].get_state()\n",
    "obsDuration = archives[0].integration_length()\n",
    "receiverName = archives[0].get_receiver_name()\n",
    "receptorBasis = archives[0].get_basis()\n",
    "backendName = archives[0].get_backend_name()\n",
    "lowFreq = archives[0].get_centre_frequency() - archives[0].get_bandwidth() / 2.0\n",
    "highFreq = archives[0].get_centre_frequency() + archives[0].get_bandwidth() / 2.0\n",
    "subintDuration = np.rint(archives[0].get_Integration(1).get_duration())"
   ]
  },
  {
   "cell_type": "code",
   "execution_count": null,
   "metadata": {
    "collapsed": false,
    "deletable": true,
    "editable": true,
    "scrolled": false
   },
   "outputs": [],
   "source": [
    "print 'nbin             Number of pulse phase bins                 %s' % nBin\n",
    "print 'nchan            Number of frequency channels               %s' % nChan\n",
    "print 'npol             Number of polarizations                    %s' % nPol\n",
    "print 'nsubint          Number of sub-integrations                 %s' % nSubint\n",
    "print 'type             Observation type                           %s' % obsType\n",
    "print 'site             Telescope name                             %s' % telescopeName\n",
    "print 'name             Source name                                %s' % sourceName\n",
    "print 'coord            Source coordinates                         %s%s' % (RA.getHMS(), Dec.getDMS())\n",
    "print 'freq             Centre frequency (MHz)                     %s' % centreFrequency\n",
    "print 'bw               Bandwidth (MHz)                            %s' % bandwidth\n",
    "print 'dm               Dispersion measure (pc/cm^3)               %s' % DM\n",
    "print 'rm               Rotation measure (rad/m^2)                 %s' % RM\n",
    "print 'dmc              Dispersion corrected                       %s' % isDedispersed\n",
    "print 'rmc              Faraday Rotation corrected                 %s' % isFaradayRotated\n",
    "print 'polc             Polarization calibrated                    %s' % isPolCalib\n",
    "print 'scale            Data units                                 %s' % dataUnits\n",
    "print 'state            Data state                                 %s' % dataState\n",
    "print 'length           Observation duration (s)                   %s' % obsDuration\n",
    "print 'rcvr:name        Receiver name                              %s' % receiverName\n",
    "print 'rcvr:basis       Basis of receptors                         %s' % receptorBasis\n",
    "print 'be:name          Name of the backend instrument             %s' % backendName"
   ]
  },
  {
   "cell_type": "markdown",
   "metadata": {
    "deletable": true,
    "editable": true
   },
   "source": [
    "## Clean archive, display RFI stats and RFI mask"
   ]
  },
  {
   "cell_type": "code",
   "execution_count": null,
   "metadata": {
    "collapsed": false,
    "deletable": true,
    "editable": true,
    "scrolled": false
   },
   "outputs": [],
   "source": [
    "cleanRFI = archives[0].clone()\n",
    "cleaner = cleaners.load_cleaner('surgical')\n",
    "cleaner.parse_config_string('chan_numpieces=1,subint_numpieces=1,chanthresh=3,subintthresh=3')\n",
    "cleaner.run(cleanRFI)\n",
    "weights = cleanRFI.get_weights()\n",
    "commonCleanRFI = cleanRFI.clone()\n",
    "commonCleanRFI.dedisperse()\n",
    "commonCleanRFI.remove_baseline()\n",
    "commonCleanRFI.centre_max_bin()\n",
    "i = j = counter = channel = 0\n",
    "emptyChan = [i for i in range(nChan)]\n",
    "for i in range(nSubint):\n",
    "    channel = 0\n",
    "    del emptyChan[:]\n",
    "    for j in range(nChan):\n",
    "        if weights[i][j] == 0.0:\n",
    "            counter += 1\n",
    "            channel += 1\n",
    "            emptyChan.append(j)\n",
    "    subintProc = (float(channel) / float(nChan)) * 100\n",
    "    print 'Subint %s has %s channels (%.2f%%) set to zero.' % (i, channel, subintProc)\n",
    "percentage = (float(counter) / float(weights.size)) * 100\n",
    "print '%s data points out of %s with weights set to zero.' % (counter, weights.size)\n",
    "print '%.2f%% data was set to zero.' % (percentage)\n",
    "fig, ax1 = plt.subplots(1, 1, figsize = [15, 10])\n",
    "ax1.set_title(sourceName)\n",
    "ax1.set_title('RFI mask', loc = 'left')\n",
    "ax1.set_ylabel('Channel number')\n",
    "ax1.yaxis.set_ticks(np.arange(0, nChan - 1, 200))\n",
    "ax1.set_xlabel('Subint number')\n",
    "ax1Secondary = ax1.twinx()\n",
    "ax1Secondary.set_ylabel('Frequency (MHz)')\n",
    "ax1Secondary.set_ylim(lowFreq, highFreq)\n",
    "ax1Secondary.yaxis.set_ticks(np.arange(np.rint(lowFreq), np.rint(highFreq), 25))\n",
    "ax1.imshow(weights.T, origin = 'lower', aspect = 'auto', cmap = colors.ListedColormap(['red', 'white']), interpolation = 'none', extent = (0, nSubint - 1, 0, nChan - 1))"
   ]
  },
  {
   "cell_type": "markdown",
   "metadata": {
    "deletable": true,
    "editable": true
   },
   "source": [
    "## Plot average profiles (Stokes data)"
   ]
  },
  {
   "cell_type": "code",
   "execution_count": null,
   "metadata": {
    "collapsed": false,
    "deletable": true,
    "editable": true
   },
   "outputs": [],
   "source": [
    "cleanProfile = commonCleanRFI.clone()\n",
    "cleanProfile.tscrunch()\n",
    "cleanProfile.fscrunch()\n",
    "cleanProfile.convert_state('Stokes')\n",
    "cleanProfileData = cleanProfile.get_data()\n",
    "cleanProfileData = cleanProfileData.squeeze()\n",
    "cleanMinMaxVals = np.array([cleanProfileData[0, :].max(), cleanProfileData[1, :].max(), cleanProfileData[2, :].max(), cleanProfileData[3, :].max(), cleanProfileData[0, :].min(), cleanProfileData[1, :].min(), cleanProfileData[2, :].min(), cleanProfileData[3, :].min()])\n",
    "dirtyProfile = archives[0].clone()\n",
    "dirtyProfile.dedisperse()\n",
    "dirtyProfile.remove_baseline()\n",
    "dirtyProfile.centre_max_bin()\n",
    "dirtyProfile.tscrunch()\n",
    "dirtyProfile.fscrunch()\n",
    "dirtyProfile.convert_state('Stokes')\n",
    "dirtyProfileData = dirtyProfile.get_data()\n",
    "dirtyProfileData = dirtyProfileData.squeeze()\n",
    "dirtyMinMaxVals = np.array([dirtyProfileData[0, :].min(), dirtyProfileData[1, :].min(), dirtyProfileData[2, :].min(), dirtyProfileData[3, :].min(), dirtyProfileData[0, :].max(), dirtyProfileData[1, :].max(), dirtyProfileData[2, :].max(), dirtyProfileData[3, :].max()])\n",
    "fig, ((ax1, ax2)) = plt.subplots(2, 1, sharex = 'col', figsize = [15, 10], tight_layout = 'false')\n",
    "ax1.set_title(sourceName)\n",
    "ax1.text(20, dirtyProfileData.max(), 'Unclean data', fontsize = 'large')\n",
    "ax1.set_ylabel('Flux (a.u.)')\n",
    "ax1.set_ylim((dirtyMinMaxVals.min() * 1.2), dirtyMinMaxVals.max() + 0.1 * dirtyMinMaxVals.max())\n",
    "ax1.plot(dirtyProfileData[0, :])\n",
    "ax1.plot(dirtyProfileData[1, :])\n",
    "ax1.plot(dirtyProfileData[2, :])\n",
    "ax1.plot(dirtyProfileData[3, :])\n",
    "ax1.plot(dirtyProfileData[0, :], 'k')\n",
    "ax1.plot(dirtyProfileData[1, :], 'r')\n",
    "ax1.plot(dirtyProfileData[2, :], 'g')\n",
    "ax1.plot(dirtyProfileData[3, :], 'b')\n",
    "ax2.text(20, cleanProfileData.max(), 'Clean data', fontsize = 'large')\n",
    "ax2.set_xlabel('Pulse phase (bins)')\n",
    "ax2.set_xlim(0, nBin - 1)\n",
    "ax2.set_ylabel('Flux (a.u.)')\n",
    "ax2.set_ylim((cleanMinMaxVals.min() * 1.2), cleanMinMaxVals.max() + 0.1 * cleanMinMaxVals.max())\n",
    "ax2.xaxis.set_ticks(np.arange(0, nBin - 1, 50))\n",
    "ax2Secondary = ax2.twiny()\n",
    "ax2Secondary.set_frame_on(True)\n",
    "ax2Secondary.patch.set_visible(False)\n",
    "ax2Secondary.xaxis.set_ticks_position('bottom')\n",
    "ax2Secondary.set_xlabel('Pulse phase (degrees)')\n",
    "ax2Secondary.xaxis.set_label_position('bottom')\n",
    "ax2Secondary.spines['bottom'].set_position(('outward', 50))\n",
    "ax2Secondary.set_xlim(0, 360)\n",
    "_ = ax2Secondary.xaxis.set_ticks(np.arange(0, 360, 20))\n",
    "ax2.plot(cleanProfileData[0, :], 'k')\n",
    "ax2.plot(cleanProfileData[1, :], 'r')\n",
    "ax2.plot(cleanProfileData[2, :], 'g')\n",
    "ax2.plot(cleanProfileData[3, :], 'b')"
   ]
  },
  {
   "cell_type": "markdown",
   "metadata": {
    "deletable": true,
    "editable": true
   },
   "source": [
    "## Plot subintegration stacks (Coherency data)"
   ]
  },
  {
   "cell_type": "code",
   "execution_count": null,
   "metadata": {
    "collapsed": false,
    "deletable": true,
    "editable": true
   },
   "outputs": [],
   "source": [
    "dirtyStack = archives[0].clone()\n",
    "dirtyStack.dedisperse()\n",
    "dirtyStack.remove_baseline()\n",
    "dirtyStack.centre_max_bin()\n",
    "dirtyStack.fscrunch()\n",
    "dirtyStack.pscrunch()\n",
    "dirtyStack_data = dirtyStack.get_data().squeeze()\n",
    "cleanStack = commonCleanRFI.clone()\n",
    "cleanStack.fscrunch()\n",
    "cleanStack.pscrunch()\n",
    "cleanStack_data = cleanStack.get_data().squeeze()\n",
    "fig, ((ax1, ax2)) = plt.subplots(1, 2, sharey = 'row', figsize = [15, 10], tight_layout = 'false')\n",
    "ax1.set_title(sourceName)\n",
    "ax1.set_title('Unclean data', loc = 'left')\n",
    "ax1.set_ylabel('Subint number')\n",
    "ax1.set_xlabel('Pulse phase (bin)')\n",
    "ax1.xaxis.set_ticks(np.arange(0, nBin - 1, 100))\n",
    "ax1Secondary = ax1.twiny()\n",
    "ax1Secondary.set_frame_on(True)\n",
    "ax1Secondary.patch.set_visible(False)\n",
    "ax1Secondary.xaxis.set_ticks_position('bottom')\n",
    "ax1Secondary.set_xlabel('Pulse phase (degrees)')\n",
    "ax1Secondary.xaxis.set_label_position('bottom')\n",
    "ax1Secondary.spines['bottom'].set_position(('outward', 50))\n",
    "ax1Secondary.set_xlim(0, 360)\n",
    "_ = ax1Secondary.xaxis.set_ticks(np.arange(0, 360, 20))\n",
    "ax1.imshow(dirtyStack_data, cmap = cm.afmhot, aspect = 'auto', vmax = dirtyStack_data.max() * 0.75, interpolation = 'none', extent = (0, nBin - 1, 0, nSubint - 1))\n",
    "ax2.set_title(sourceName)\n",
    "ax2.set_title('Clean data', loc = 'left')\n",
    "ax2.set_xlabel('Pulse phase (bin)')\n",
    "ax2.xaxis.set_ticks(np.arange(0, nBin - 1, 100))\n",
    "ax2Secondary = ax2.twiny()\n",
    "ax2Secondary.set_frame_on(True)\n",
    "ax2Secondary.patch.set_visible(False)\n",
    "ax2Secondary.xaxis.set_ticks_position('bottom')\n",
    "ax2Secondary.set_xlabel('Pulse phase (degrees)')\n",
    "ax2Secondary.xaxis.set_label_position('bottom')\n",
    "ax2Secondary.spines['bottom'].set_position(('outward', 50))\n",
    "ax2Secondary.set_xlim(0, 360)\n",
    "_ = ax2Secondary.xaxis.set_ticks(np.arange(0, 360, 20))\n",
    "ax2Tertiary = ax2.twinx()\n",
    "ax2Tertiary.yaxis.set_label_position('right')\n",
    "ax2Tertiary.set_ylim(0, obsDuration)\n",
    "ax2Tertiary.set_ylabel('Time (seconds)')\n",
    "ax2.imshow(cleanStack_data, cmap = cm.afmhot, aspect = 'auto', vmax = cleanStack_data.max() * 0.75, interpolation = 'none', extent = (0, nBin - 1, 0, nSubint - 1))"
   ]
  },
  {
   "cell_type": "markdown",
   "metadata": {
    "deletable": true,
    "editable": true
   },
   "source": [
    "## Plot phase vs. frequency image of flux (clean Coherency data)"
   ]
  },
  {
   "cell_type": "code",
   "execution_count": null,
   "metadata": {
    "collapsed": false,
    "deletable": true,
    "editable": true
   },
   "outputs": [],
   "source": [
    "coherencyFluxPhase = commonCleanRFI.clone()\n",
    "coherencyFluxPhase.tscrunch()\n",
    "coherencyFluxPhase_data = coherencyFluxPhase.get_data().squeeze()\n",
    "fig, ((ax1, ax2), (ax3, ax4)) = plt.subplots(2, 2, sharex = 'col', sharey = 'row', figsize = [15, 10], tight_layout = 'false')\n",
    "fig.suptitle(sourceName, fontsize = 'large', y = 1.015)\n",
    "fig.text(0.05, 1.0, 'Clean data', fontsize = 'large')\n",
    "ax1.set_title('XX')\n",
    "ax1.set_ylabel('Frequency (MHz)')\n",
    "ax1.xaxis.set_ticks(np.arange(0, nBin - 1, 100))\n",
    "ax1.yaxis.set_ticks(np.arange(0, nChan - 1, 50))\n",
    "ax1.imshow(coherencyFluxPhase_data[0, :, :], cmap = cm.afmhot, aspect = 'auto', interpolation = 'none', extent = (0, nBin - 1.0, lowFreq, highFreq))\n",
    "ax2.set_title('YY')\n",
    "ax2.xaxis.set_ticks(np.arange(0, nBin - 1, 100))\n",
    "ax2.yaxis.set_ticks(np.arange(0, nChan - 1, 50))\n",
    "ax2Secondary = ax2.twinx()\n",
    "ax2Secondary.set_ylabel('Channel number')\n",
    "ax2Secondary.set_ylim(0, nChan - 1)\n",
    "ax2Secondary.yaxis.set_ticks(np.arange(0, nChan - 1 , 200))\n",
    "ax2.imshow(coherencyFluxPhase_data[1, :, :], cmap = cm.afmhot, aspect = 'auto', interpolation = 'none', extent = (0, nBin - 1.0, lowFreq, highFreq))\n",
    "ax3.set_title('Re XY')\n",
    "ax3.set_xlabel('Pulse phase (bin)')\n",
    "ax3.set_ylabel('Frequency (MHz)')\n",
    "ax3.xaxis.set_ticks(np.arange(0, nBin - 1, 100))\n",
    "ax3.yaxis.set_ticks(np.arange(0, nChan - 1, 50))\n",
    "ax3Secondary = ax3.twiny()\n",
    "ax3Secondary.set_frame_on(True)\n",
    "ax3Secondary.patch.set_visible(False)\n",
    "ax3Secondary.xaxis.set_ticks_position('bottom')\n",
    "ax3Secondary.set_xlabel('Pulse phase (degrees)')\n",
    "ax3Secondary.xaxis.set_label_position('bottom')\n",
    "ax3Secondary.spines['bottom'].set_position(('outward', 50))\n",
    "ax3Secondary.set_xlim(0, 360)\n",
    "_ = ax3Secondary.xaxis.set_ticks(np.arange(0, 360, 20))\n",
    "ax3.imshow(coherencyFluxPhase_data[2, :, :], cmap = cm.afmhot, aspect = 'auto', interpolation = 'none', extent = (0, nBin - 1.0, lowFreq, highFreq))\n",
    "ax4.set_title('Im XY')\n",
    "ax4.set_xlabel('Pulse phase (bin)')\n",
    "ax4.xaxis.set_ticks(np.arange(0, nBin - 1, 100))\n",
    "ax4.yaxis.set_ticks(np.arange(0, nChan - 1, 50))\n",
    "ax4Secondary = ax4.twinx()\n",
    "ax4Secondary.set_ylabel('Channel number')\n",
    "ax4Secondary.set_ylim(0, nChan - 1)\n",
    "ax4Secondary.yaxis.set_ticks(np.arange(0, nChan - 1 , 200))\n",
    "ax4Tertiary = ax4.twiny()\n",
    "ax4Tertiary.set_frame_on(True)\n",
    "ax4Tertiary.patch.set_visible(False)\n",
    "ax4Tertiary.xaxis.set_ticks_position('bottom')\n",
    "ax4Tertiary.set_xlabel('Pulse phase (degrees)')\n",
    "ax4Tertiary.xaxis.set_label_position('bottom')\n",
    "ax4Tertiary.spines['bottom'].set_position(('outward', 50))\n",
    "ax4Tertiary.set_xlim(0, 360)\n",
    "_ = ax4Tertiary.xaxis.set_ticks(np.arange(0, 360, 20))\n",
    "ax4.imshow(coherencyFluxPhase_data[3, :, :], cmap = cm.afmhot, aspect = 'auto', interpolation = 'none', extent = (0, nBin - 1.0, lowFreq, highFreq))"
   ]
  },
  {
   "cell_type": "markdown",
   "metadata": {
    "deletable": true,
    "editable": true
   },
   "source": [
    "## Plot phase vs. frequency image of flux (clean Stokes data)"
   ]
  },
  {
   "cell_type": "code",
   "execution_count": null,
   "metadata": {
    "collapsed": false,
    "deletable": true,
    "editable": true
   },
   "outputs": [],
   "source": [
    "stokesFluxPhase = commonCleanRFI.clone()\n",
    "stokesFluxPhase.tscrunch()\n",
    "stokesFluxPhase.convert_state('Stokes')\n",
    "stokesFluxPhase_data = stokesFluxPhase.get_data().squeeze()\n",
    "fig, ((ax1, ax2), (ax3, ax4)) = plt.subplots(2, 2, sharex = 'col', sharey = 'row', figsize = [15, 10], tight_layout = 'false')\n",
    "fig.suptitle(sourceName, fontsize = 'large', y = 1.01)\n",
    "fig.text(0.05, 1.0, 'Clean data', fontsize = 'large')\n",
    "ax1.set_title('I')\n",
    "ax1.set_ylabel('Frequency (MHz)')\n",
    "ax1.xaxis.set_ticks(np.arange(0, nBin - 1, 100))\n",
    "ax1.yaxis.set_ticks(np.arange(0, nChan - 1, 50))\n",
    "ax1.imshow(stokesFluxPhase_data[0, :, :], cmap = cm.afmhot, aspect = 'auto', interpolation = 'none', extent = (0, nBin - 1.0, lowFreq, highFreq))\n",
    "ax2.set_title('Q')\n",
    "ax2.xaxis.set_ticks(np.arange(0, nBin - 1, 100))\n",
    "ax2.yaxis.set_ticks(np.arange(0, nChan - 1, 50))\n",
    "ax2Secondary = ax2.twinx()\n",
    "ax2Secondary.set_ylabel('Channel number')\n",
    "ax2Secondary.set_ylim(0, nChan - 1)\n",
    "ax2Secondary.yaxis.set_ticks(np.arange(0, nChan - 1 , 200))\n",
    "ax2.imshow(stokesFluxPhase_data[1, :, :], cmap = cm.afmhot, aspect = 'auto', interpolation = 'none', extent = (0, nBin - 1.0, lowFreq, highFreq))\n",
    "ax3.set_title('U')\n",
    "ax3.set_xlabel('Pulse phase (bin)')\n",
    "ax3.set_ylabel('Frequency (MHz)')\n",
    "ax3.xaxis.set_ticks(np.arange(0, nBin - 1, 100))\n",
    "ax3.yaxis.set_ticks(np.arange(0, nChan - 1, 50))\n",
    "ax3Secondary = ax3.twiny()\n",
    "ax3Secondary.set_frame_on(True)\n",
    "ax3Secondary.patch.set_visible(False)\n",
    "ax3Secondary.xaxis.set_ticks_position('bottom')\n",
    "ax3Secondary.set_xlabel('Pulse phase (degrees)')\n",
    "ax3Secondary.xaxis.set_label_position('bottom')\n",
    "ax3Secondary.spines['bottom'].set_position(('outward', 50))\n",
    "ax3Secondary.set_xlim(0, 360)\n",
    "_ = ax3Secondary.xaxis.set_ticks(np.arange(0, 360, 20))\n",
    "ax3.imshow(stokesFluxPhase_data[2, :, :], cmap = cm.afmhot, aspect = 'auto', interpolation = 'none', extent = (0, nBin - 1.0, lowFreq, highFreq))\n",
    "ax4.set_title('V')\n",
    "ax4.set_xlabel('Pulse phase (bin)')\n",
    "ax4.xaxis.set_ticks(np.arange(0, nBin - 1, 100))\n",
    "ax4.yaxis.set_ticks(np.arange(0, nChan - 1, 50))\n",
    "ax4Secondary = ax4.twinx()\n",
    "ax4Secondary.set_ylabel('Channel number')\n",
    "ax4Secondary.set_ylim(0, nChan - 1)\n",
    "ax4Secondary.yaxis.set_ticks(np.arange(0, nChan - 1 , 200))\n",
    "ax4Tertiary = ax4.twiny()\n",
    "ax4Tertiary.set_frame_on(True)\n",
    "ax4Tertiary.patch.set_visible(False)\n",
    "ax4Tertiary.xaxis.set_ticks_position('bottom')\n",
    "ax4Tertiary.set_xlabel('Pulse phase (degrees)')\n",
    "ax4Tertiary.xaxis.set_label_position('bottom')\n",
    "ax4Tertiary.spines['bottom'].set_position(('outward', 50))\n",
    "ax4Tertiary.set_xlim(0, 360)\n",
    "_ = ax4Tertiary.xaxis.set_ticks(np.arange(0, 360, 20))\n",
    "ax4.imshow(stokesFluxPhase_data[3, :, :], cmap = cm.afmhot, aspect = 'auto', interpolation = 'none', extent = (0, nBin - 1.0, lowFreq, highFreq))"
   ]
  },
  {
   "cell_type": "markdown",
   "metadata": {
    "deletable": true,
    "editable": true
   },
   "source": [
    "## Plot bandpass (unclean Stokes data)"
   ]
  },
  {
   "cell_type": "code",
   "execution_count": null,
   "metadata": {
    "collapsed": false,
    "deletable": true,
    "editable": true
   },
   "outputs": [],
   "source": [
    "dirtyBandpass = archives[0].clone()\n",
    "dirtyBandpass.tscrunch()\n",
    "(dirtyBandpassMean, dirtyBandpassVariance) = dirtyBandpass.get_Integration(0).baseline_stats()\n",
    "dirtyBandpassMaxMinVals = np.array([dirtyBandpassMean[0, :].min(), dirtyBandpassMean[0, :].max(), dirtyBandpassMean[1, :].min(), dirtyBandpassMean[1, :].max()])\n",
    "dirtyBandpassStokes = archives[0].clone()\n",
    "dirtyBandpassStokes.convert_state('Stokes')\n",
    "dirtyBandpassStokes.tscrunch()\n",
    "(dirtyBandpassStokesMean, dirtyBandpassStokesVariance) = dirtyBandpassStokes.get_Integration(0).baseline_stats()\n",
    "dirtyBandpassStokesMinMaxVals = np.array([dirtyBandpassStokesMean[0, :].min(), dirtyBandpassStokesMean[0, :].max()])\n",
    "fig, ((ax1, ax2, ax3 )) = plt.subplots(3, 1, sharex = 'col', figsize = [15, 10], tight_layout = 'false')\n",
    "ax1.set_title(sourceName)\n",
    "ax1.set_title('Unclean data', loc = 'left')\n",
    "ax1.text(np.int(nChan * 0.0125), dirtyBandpassMaxMinVals.max() - (0.25 * dirtyBandpassMaxMinVals.max()), 'XX', fontsize = 'large')\n",
    "ax1.set_xlim(0, nChan - 1)\n",
    "ax1.set_ylabel('Flux (a.u.)')\n",
    "ax1.xaxis.set_ticks(np.arange(0, nChan - 1, 200))\n",
    "ax1.set_yscale('log')\n",
    "ax1.plot(dirtyBandpassMean[0, :])\n",
    "ax2.text(np.int(nChan * 0.0125), dirtyBandpassMaxMinVals.max() - (0.25 * dirtyBandpassMaxMinVals.max()), 'YY', fontsize='large')\n",
    "ax2.set_xlim(0, nChan - 1)\n",
    "ax2.set_ylabel('Flux (a.u.)')\n",
    "ax2.xaxis.set_ticks(np.arange(0, nChan - 1, 200))\n",
    "ax2.set_yscale('log')\n",
    "ax2.plot(dirtyBandpassMean[1, :])\n",
    "ax3.text(np.int(nChan*0.0125), dirtyBandpassMaxMinVals.max() - (0.25 * dirtyBandpassMaxMinVals.max()), 'Stokes I', fontsize='large')\n",
    "ax3.set_xlabel('Channel number')\n",
    "ax3.set_ylabel('Flux (a.u.)')\n",
    "ax3.xaxis.set_ticks(np.arange(0, nChan - 1, 200))\n",
    "ax3.set_yscale('log')\n",
    "ax3Secondary = ax3.twiny()\n",
    "ax3Secondary.set_frame_on(True)\n",
    "ax3Secondary.patch.set_visible(False)\n",
    "ax3Secondary.xaxis.set_ticks_position('bottom')\n",
    "ax3Secondary.set_xlabel('Frequency (MHz)')\n",
    "ax3Secondary.xaxis.set_label_position('bottom')\n",
    "ax3Secondary.spines['bottom'].set_position(('outward', 50))\n",
    "ax3Secondary.set_xlim(lowFreq, highFreq)\n",
    "_ = ax3Secondary.xaxis.set_ticks(np.arange(np.rint(lowFreq), np.rint(highFreq), 50))\n",
    "ax3.plot(dirtyBandpassStokesMean[0, :])"
   ]
  },
  {
   "cell_type": "markdown",
   "metadata": {
    "deletable": true,
    "editable": true
   },
   "source": [
    "## Plot bandpass (clean Stokes data)"
   ]
  },
  {
   "cell_type": "code",
   "execution_count": null,
   "metadata": {
    "collapsed": false,
    "deletable": true,
    "editable": true
   },
   "outputs": [],
   "source": [
    "cleanBandpass = cleanRFI.clone()\n",
    "cleanBandpass.tscrunch()\n",
    "(cleanBandpassMean, cleanBandpassVariance) = cleanBandpass.get_Integration(0).baseline_stats()\n",
    "cleanBandpassMaxMinVals = np.array([cleanBandpassMean[0, :].min(), cleanBandpassMean[0, :].max(), cleanBandpassMean[1, :].min(), cleanBandpassMean[1, :].max()])\n",
    "cleanBandpassMean[cleanBandpassMean == 0.0] = np.nan\n",
    "cleanBandpassStokes = cleanBandpass.clone()\n",
    "cleanBandpassStokes.convert_state('Stokes')\n",
    "cleanBandpassStokes.tscrunch()\n",
    "(cleanBandpassStokesMean, cleanBandpassStokesVariance) = cleanBandpassStokes.get_Integration(0).baseline_stats()\n",
    "cleanBandpassStokesMinMaxVals = np.array([cleanBandpassStokesMean[0, :].min(), cleanBandpassStokesMean[0, :].max()])\n",
    "cleanBandpassStokesMean[cleanBandpassStokesMean == 0.0] = np.nan\n",
    "fig, ((ax1, ax2, ax3 )) = plt.subplots(3, 1, sharex = 'col', figsize = [15, 10], tight_layout = 'false')\n",
    "ax1.set_title(sourceName)\n",
    "ax1.set_title('Clean data', loc = 'left')\n",
    "ax1.text(np.int(nChan * 0.0125), cleanBandpassMaxMinVals.max(), 'XX', fontsize = 'large')\n",
    "ax1.set_xlim(0, nChan - 1)\n",
    "ax1.set_ylabel('Flux (a.u.)')\n",
    "ax1.set_ylim(cleanBandpassMaxMinVals.min() - (0.1 * np.abs(cleanBandpassMaxMinVals.min())), cleanBandpassMaxMinVals.max() + (0.1 * np.abs(cleanBandpassMaxMinVals.max())))\n",
    "ax1.xaxis.set_ticks(np.arange(0, nChan - 1, 200))\n",
    "ax1.plot(cleanBandpassMean[0, :])\n",
    "ax2.text(np.int(nChan * 0.0125), cleanBandpassMaxMinVals.max(), 'YY', fontsize = 'large')\n",
    "ax2.set_xlim(0, nChan - 1)\n",
    "ax2.set_ylabel('Flux (a.u.)')\n",
    "ax2.set_ylim(cleanBandpassMaxMinVals.min() - (0.1 * np.abs(cleanBandpassMaxMinVals.min())), cleanBandpassMaxMinVals.max() + (0.1 * np.abs(cleanBandpassMaxMinVals.max())))\n",
    "ax2.xaxis.set_ticks(np.arange(0, nChan - 1, 200))\n",
    "ax2.plot(cleanBandpassMean[1, :])\n",
    "ax3.text(np.int(nChan * 0.0125), cleanBandpassStokesMinMaxVals.max(), 'Stokes I', fontsize = 'large')\n",
    "ax3.set_xlabel('Channel number')\n",
    "ax3.set_ylabel('Flux (a.u.)')\n",
    "ax3.set_ylim(cleanBandpassStokesMinMaxVals.min() - (0.1 * np.abs(cleanBandpassStokesMinMaxVals.min())), cleanBandpassStokesMinMaxVals.max() + (0.1 * np.abs(cleanBandpassStokesMinMaxVals.max())))\n",
    "ax3.xaxis.set_ticks(np.arange(0, nChan - 1, 200))\n",
    "ax3Secondary = ax3.twiny()\n",
    "ax3Secondary.set_frame_on(True)\n",
    "ax3Secondary.patch.set_visible(False)\n",
    "ax3Secondary.xaxis.set_ticks_position('bottom')\n",
    "ax3Secondary.set_xlabel('Frequency (MHz)')\n",
    "ax3Secondary.xaxis.set_label_position('bottom')\n",
    "ax3Secondary.spines['bottom'].set_position(('outward', 50))\n",
    "ax3Secondary.set_xlim(lowFreq, highFreq)\n",
    "_ = ax3Secondary.xaxis.set_ticks(np.arange(np.rint(lowFreq), np.rint(highFreq), 50))\n",
    "ax3.plot(cleanBandpassStokesMean[0, :])"
   ]
  },
  {
   "cell_type": "markdown",
   "metadata": {
    "deletable": true,
    "editable": true
   },
   "source": [
    "## Plot dynamic baseline spectrum (uncleaned Coherency data)"
   ]
  },
  {
   "cell_type": "code",
   "execution_count": null,
   "metadata": {
    "collapsed": false,
    "deletable": true,
    "editable": true
   },
   "outputs": [],
   "source": [
    "dynamicSpectrum = archives[0].clone()\n",
    "mean = np.zeros((nSubint, nPol, nChan))\n",
    "variance = np.zeros((nSubint, nPol, nChan))\n",
    "for subint in range(nSubint):\n",
    "    m, v = dynamicSpectrum.get_Integration(subint).baseline_stats()\n",
    "    mean[subint] = m[:, :]\n",
    "meanXXMin = mean[:, 0, :].min()\n",
    "meanXXMax = mean[:, 0, :].max()\n",
    "meanYYMin = mean[:, 1, :].min()\n",
    "meanYYMax = mean[:, 1, :].max()\n",
    "meanReXYMin = mean[:, 2, :].min()\n",
    "meanReXYMax = mean[:, 2, :].max()\n",
    "meanImXYMin = mean[:, 3, :].min()\n",
    "meanImXYMax = mean[:, 3, :].max()\n",
    "fig, ((ax1, ax2), (ax3, ax4)) = plt.subplots(2, 2, sharex = 'col', sharey = 'row', figsize = [15, 10], tight_layout = 'false')\n",
    "fig.suptitle(sourceName, fontsize = 'large', y = 1.01)\n",
    "fig.text(0.05, 1.0, 'Unclean data', fontsize = 'large')\n",
    "ax1.set_title('XX')\n",
    "ax1.set_ylabel('Channel number')\n",
    "ax1.yaxis.set_ticks(np.arange(0, nChan - 1, 400))\n",
    "ax1.imshow(mean[:, 0, :].T, origin = 'lower', aspect = 'auto', cmap = cm.afmhot, norm = colors.SymLogNorm(10, linscale = 1.0, vmin = meanXXMin, vmax = meanXXMax), interpolation = 'none')\n",
    "ax2.set_title('YY')\n",
    "ax2.yaxis.set_ticks(np.arange(0, nChan - 1, 400))\n",
    "ax2Secondary = ax2.twinx()\n",
    "ax2Secondary.set_ylabel('Frequency (MHz)')\n",
    "ax2Secondary.set_ylim(lowFreq, highFreq)\n",
    "ax2Secondary.yaxis.set_ticks(np.arange(np.rint(lowFreq), np.rint(highFreq), 50))\n",
    "ax2.imshow(mean[:, 1, :].T, origin = 'lower', aspect = 'auto', cmap = cm.afmhot, norm = colors.SymLogNorm(10, linscale = 1.0, vmin = meanYYMin, vmax = meanYYMax), interpolation = 'none')\n",
    "ax3.set_title('Re XY')\n",
    "ax3.set_xlabel('Subint number')\n",
    "ax3.set_ylabel('Channel number')\n",
    "ax3.yaxis.set_ticks(np.arange(0, nChan - 1, 400))\n",
    "ax3Secondary = ax3.twiny()\n",
    "ax3Secondary.set_frame_on(True)\n",
    "ax3Secondary.patch.set_visible(False)\n",
    "ax3Secondary.xaxis.set_ticks_position('bottom')\n",
    "ax3Secondary.set_xlabel('Time (seconds)')\n",
    "ax3Secondary.xaxis.set_label_position('bottom')\n",
    "ax3Secondary.spines['bottom'].set_position(('outward', 50))\n",
    "ax3Secondary.set_xlim(0, obsDuration)\n",
    "ax3.imshow(mean[:, 2, :].T, origin = 'lower', aspect = 'auto', cmap = cm.afmhot, norm = colors.SymLogNorm(10, linscale = 1.0, vmin = meanReXYMin, vmax = meanReXYMax), interpolation = 'none')\n",
    "ax4.set_title('Im XY')\n",
    "ax4.set_xlabel('Subint number')\n",
    "ax4.yaxis.set_ticks(np.arange(0, nChan - 1, 400))\n",
    "ax4Secondary = ax4.twinx()\n",
    "ax4Secondary.set_ylabel('Frequency (MHz)')\n",
    "ax4Secondary.set_ylim(lowFreq, highFreq)\n",
    "ax4Secondary.yaxis.set_ticks(np.arange(np.rint(lowFreq), np.rint(highFreq), 50))\n",
    "ax4Tertiary = ax4.twiny()\n",
    "ax4Tertiary.set_frame_on(True)\n",
    "ax4Tertiary.patch.set_visible(False)\n",
    "ax4Tertiary.xaxis.set_ticks_position('bottom')\n",
    "ax4Tertiary.set_xlabel('Time (seconds)')\n",
    "ax4Tertiary.xaxis.set_label_position('bottom')\n",
    "ax4Tertiary.spines['bottom'].set_position(('outward', 50))\n",
    "ax4Tertiary.set_xlim(0, obsDuration)\n",
    "ax4.imshow(mean[:, 3, :].T, origin = 'lower', aspect = 'auto', cmap = cm.afmhot, norm = colors.SymLogNorm(10, linscale = 1.0, vmin = meanImXYMin, vmax = meanImXYMax), interpolation = 'none')"
   ]
  },
  {
   "cell_type": "markdown",
   "metadata": {
    "deletable": true,
    "editable": true
   },
   "source": [
    "## Plot dynamic baseline spectrum (cleaned Stokes data)"
   ]
  },
  {
   "cell_type": "code",
   "execution_count": null,
   "metadata": {
    "collapsed": false,
    "deletable": true,
    "editable": true
   },
   "outputs": [],
   "source": [
    "dynamicSpectrum = cleanRFI.clone()\n",
    "dynamicSpectrum.convert_state('Stokes')\n",
    "mean = np.zeros((nSubint, nPol, nChan))\n",
    "variance = np.zeros((nSubint, nPol, nChan))\n",
    "for subint in range(nSubint):\n",
    "    m, v = dynamicSpectrum.get_Integration(subint).baseline_stats()\n",
    "    variance[subint] = v[:, :]\n",
    "varianceXXMin = variance[:, 0, :].min()\n",
    "varianceXXMax = variance[:, 0, :].max()\n",
    "varianceYYMin = variance[:, 1, :].min()\n",
    "varianceYYMax = variance[:, 1, :].max()\n",
    "varianceReXYMin = variance[:, 2, :].min()\n",
    "varianceReXYMax = variance[:, 2, :].max()\n",
    "varianceImXYMin = variance[:, 3, :].min()\n",
    "varianceImXYMax = variance[:, 3, :].max()\n",
    "fig, ((ax1, ax2), (ax3, ax4)) = plt.subplots(2, 2, sharex = 'col', sharey = 'row', figsize = [15, 10], tight_layout = 'false')\n",
    "fig.suptitle(sourceName, fontsize = 'large', y = 1.01)\n",
    "fig.text(0.05, 1.0, 'Clean data', fontsize = 'large')\n",
    "ax1.set_title('I')\n",
    "ax1.set_ylabel('Channel number')\n",
    "ax1.yaxis.set_ticks(np.arange(0, nChan - 1, 400))\n",
    "ax1.imshow(variance[:, 0, :].T, origin = 'lower', aspect = 'auto', cmap = cm.afmhot, norm = colors.Normalize(vmin = varianceXXMin, vmax = varianceXXMax), interpolation = 'none')\n",
    "ax2.set_title('Q')\n",
    "ax2.yaxis.set_ticks(np.arange(0, nChan - 1, 400))\n",
    "ax2Secondary = ax2.twinx()\n",
    "ax2Secondary.set_ylabel('Frequency (MHz)')\n",
    "ax2Secondary.set_ylim(lowFreq, highFreq)\n",
    "ax2Secondary.yaxis.set_ticks(np.arange(np.rint(lowFreq), np.rint(highFreq), 50))\n",
    "ax2.imshow(variance[:, 1, :].T, origin = 'lower', aspect = 'auto', cmap = cm.afmhot, norm = colors.Normalize(vmin = varianceYYMin, vmax = varianceYYMax), interpolation = 'none')\n",
    "ax3.set_title('U')\n",
    "ax3.set_xlabel('Subint number')\n",
    "ax3.set_ylabel('Channel number')\n",
    "ax3.yaxis.set_ticks(np.arange(0, nChan - 1, 400))\n",
    "ax3Secondary = ax3.twiny()\n",
    "ax3Secondary.set_frame_on(True)\n",
    "ax3Secondary.patch.set_visible(False)\n",
    "ax3Secondary.xaxis.set_ticks_position('bottom')\n",
    "ax3Secondary.set_xlabel('Time (seconds)')\n",
    "ax3Secondary.xaxis.set_label_position('bottom')\n",
    "ax3Secondary.spines['bottom'].set_position(('outward', 50))\n",
    "ax3Secondary.set_xlim(0, obsDuration)\n",
    "ax3.imshow(variance[:, 2, :].T, origin = 'lower', aspect = 'auto', cmap = cm.afmhot, norm = colors.Normalize(vmin = varianceReXYMin, vmax = varianceReXYMax), interpolation = 'none')\n",
    "ax4.set_title('V')\n",
    "ax4.set_xlabel('Subint number')\n",
    "ax4.yaxis.set_ticks(np.arange(0, nChan - 1, 400))\n",
    "ax4Secondary = ax4.twinx()\n",
    "ax4Secondary.set_ylabel('Frequency (MHz)')\n",
    "ax4Secondary.set_ylim(lowFreq, highFreq)\n",
    "ax4Secondary.yaxis.set_ticks(np.arange(np.rint(lowFreq), np.rint(highFreq), 50))\n",
    "ax4Tertiary = ax4.twiny()\n",
    "ax4Tertiary.set_frame_on(True)\n",
    "ax4Tertiary.patch.set_visible(False)\n",
    "ax4Tertiary.xaxis.set_ticks_position('bottom')\n",
    "ax4Tertiary.set_xlabel('Time (seconds)')\n",
    "ax4Tertiary.xaxis.set_label_position('bottom')\n",
    "ax4Tertiary.spines['bottom'].set_position(('outward', 50))\n",
    "ax4Tertiary.set_xlim(0, obsDuration)\n",
    "ax4.imshow(variance[:, 3, :].T, origin = 'lower', aspect = 'auto', cmap = cm.afmhot, norm = colors.Normalize(vmin = varianceImXYMin, vmax = varianceImXYMax), interpolation = 'none')"
   ]
  },
  {
   "cell_type": "markdown",
   "metadata": {
    "deletable": true,
    "editable": true
   },
   "source": [
    "## Plot signal-to-noise ratio vs. subintegration (cleaned Coherency data)"
   ]
  },
  {
   "cell_type": "code",
   "execution_count": null,
   "metadata": {
    "collapsed": false,
    "deletable": true,
    "editable": true
   },
   "outputs": [],
   "source": [
    "archiveSNR = commonCleanRFI.clone()\n",
    "newIntegration = archiveSNR.get_Integration(0).total()\n",
    "snrData = np.zeros(nSubint)\n",
    "for iSubintegration in range (1, nSubint):\n",
    "    nextIntegration = archiveSNR.get_Integration(iSubintegration).total()\n",
    "    newIntegration.combine(nextIntegration)\n",
    "    profile = newIntegration.get_Profile(0, 0)\n",
    "    snrData[iSubintegration] = profile.snr()\n",
    "fig, ax1 = plt.subplots(1, 1, sharex = 'col', sharey = 'row', figsize = [15, 5], tight_layout = 'false')\n",
    "fig.suptitle(sourceName, fontsize = 'large', y = 1.01)\n",
    "fig.text(0.05, 1.0, 'Clean data', fontsize = 'large')\n",
    "ax1.set_xlabel('Subint number')\n",
    "ax1.set_ylabel('Signal-to-noise ratio')\n",
    "ax1.set_xlim(0, nSubint)\n",
    "ax1Secondary = ax1.twiny()\n",
    "ax1Secondary.set_frame_on(True)\n",
    "ax1Secondary.patch.set_visible(False)\n",
    "ax1Secondary.xaxis.set_ticks_position('bottom')\n",
    "ax1Secondary.set_xlabel('Time (seconds)')\n",
    "ax1Secondary.xaxis.set_label_position('bottom')\n",
    "ax1Secondary.spines['bottom'].set_position(('outward', 50))\n",
    "ax1Secondary.set_xlim(0, obsDuration)\n",
    "ax1.plot(snrData)"
   ]
  },
  {
   "cell_type": "code",
   "execution_count": null,
   "metadata": {
    "collapsed": false
   },
   "outputs": [],
   "source": [
    "print 'Report Ended:'\n",
    "!date"
   ]
  }
 ],
 "metadata": {
  "kernelspec": {
   "display_name": "Python 2",
   "language": "python",
   "name": "python2"
  },
  "language_info": {
   "codemirror_mode": {
    "name": "ipython",
    "version": 2
   },
   "file_extension": ".py",
   "mimetype": "text/x-python",
   "name": "python",
   "nbconvert_exporter": "python",
   "pygments_lexer": "ipython2",
   "version": "2.7.12"
  }
 },
 "nbformat": 4,
 "nbformat_minor": 1
}
