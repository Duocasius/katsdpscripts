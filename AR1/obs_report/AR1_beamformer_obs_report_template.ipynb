{
 "cells": [
  {
   "cell_type": "markdown",
   "metadata": {},
   "source": [
    "# AR1 Pulsar Observation report"
   ]
  },
  {
   "cell_type": "markdown",
   "metadata": {},
   "source": [
    "## Files to be processed"
   ]
  },
  {
   "cell_type": "code",
   "execution_count": null,
   "metadata": {
    "collapsed": true
   },
   "outputs": [],
   "source": [
    "directory = \"/data/\""
   ]
  },
  {
   "cell_type": "markdown",
   "metadata": {},
   "source": [
    "## Set up environment"
   ]
  },
  {
   "cell_type": "code",
   "execution_count": null,
   "metadata": {
    "collapsed": false
   },
   "outputs": [],
   "source": [
    "%pylab inline"
   ]
  },
  {
   "cell_type": "code",
   "execution_count": null,
   "metadata": {
    "collapsed": true
   },
   "outputs": [],
   "source": [
    "import psrchive as psr\n",
    "import os"
   ]
  },
  {
   "cell_type": "markdown",
   "metadata": {},
   "source": [
    "## Load data"
   ]
  },
  {
   "cell_type": "code",
   "execution_count": null,
   "metadata": {
    "collapsed": false
   },
   "outputs": [],
   "source": [
    "# Load files with *.ar into the list.\n",
    "files = []\n",
    "for file in os.listdir(directory):\n",
    "    if file.endswith(\".ar\"):\n",
    "        files.append(file)\n",
    "files.sort()\n",
    "# Build a list of objects, each holding individual archive.\n",
    "archives = []\n",
    "archives = [psr.Archive_load(directory + file) for file in files]\n",
    "# Append all files to a first archive.\n",
    "print archives[0]\n",
    "for i in range(1, len(archives)):\n",
    "    print archives[i]\n",
    "    archives[0].append(archives[i])"
   ]
  },
  {
   "cell_type": "code",
   "execution_count": null,
   "metadata": {
    "collapsed": false,
    "scrolled": true
   },
   "outputs": [],
   "source": [
    "print \"nbin             Number of pulse phase bins                 %s\" % archives[0].get_nbin()\n",
    "print \"nchan            Number of frequency channels               %s\" % archives[0].get_nchan()\n",
    "print \"npol             Number of polarizations                    %s\" % archives[0].get_npol()\n",
    "print \"nsubint          Number of sub-integrations                 %s\" % archives[0].get_nsubint()\n",
    "print \"type             Observation type                           %s\" % archives[0].get_type()\n",
    "print \"site             Telescope name                             %s\" % archives[0].get_telescope()\n",
    "print \"name             Source name                                %s\" % archives[0].get_source()\n",
    "RA = archives[0].get_coordinates().ra()\n",
    "Dec = archives[0].get_coordinates().dec()\n",
    "print \"coord            Source coordinates                         %s%s\" % (RA.getHMS(), Dec.getDMS())\n",
    "print \"freq             Centre frequency (MHz)                     %s\" % archives[0].get_centre_frequency()\n",
    "print \"bw               Bandwidth (MHz)                            %s\" % archives[0].get_bandwidth()\n",
    "print \"dm               Dispersion measure (pc/cm^3)               %s\" % archives[0].get_dispersion_measure()\n",
    "print \"rm               Rotation measure (rad/m^2)                 %s\" % archives[0].get_rotation_measure()\n",
    "print \"dmc              Dispersion corrected                       %s\" % archives[0].get_dedispersed()\n",
    "print \"rmc              Faraday Rotation corrected                 %s\" % archives[0].get_faraday_corrected()\n",
    "print \"polc             Polarization calibrated                    %s\" % archives[0].get_poln_calibrated()\n",
    "print \"scale            Data units                                 %s\" % archives[0].get_scale()\n",
    "print \"state            Data state                                 %s\" % archives[0].get_state()\n",
    "print \"length           Observation duration (s)                   %s\" % archives[0].integration_length()\n",
    "print \"rcvr:name        Receiver name                              %s\" % archives[0].get_receiver_name()\n",
    "print \"rcvr:basis       Basis of receptors                         %s\" % archives[0].get_basis()\n",
    "print \"be:name          Name of the backend instrument             %s\" % archives[0].get_backend_name()"
   ]
  },
  {
   "cell_type": "code",
   "execution_count": null,
   "metadata": {
    "collapsed": false
   },
   "outputs": [],
   "source": [
    "profile = archives[0].clone()\n",
    "profile.dedisperse()\n",
    "profile.remove_baseline()\n",
    "profile.centre_max_bin()\n",
    "profile.tscrunch()\n",
    "profile.fscrunch()\n",
    "profile.pscrunch()\n",
    "profile_data = profile.get_data()\n",
    "profile_data = profile_data.flatten()"
   ]
  },
  {
   "cell_type": "code",
   "execution_count": null,
   "metadata": {
    "collapsed": true
   },
   "outputs": [],
   "source": [
    "figure(figsize=[15,10])\n",
    "plt.title(profile.get_source())\n",
    "plt.xlabel(\"Pulse phase (bins)\")\n",
    "plt.ylabel(\"Flux (a.u.)\")\n",
    "plt.xlim(0, profile.get_nbin() - 1.0)\n",
    "plt.plot(profile_data)"
   ]
  },
  {
   "cell_type": "code",
   "execution_count": null,
   "metadata": {
    "collapsed": true
   },
   "outputs": [],
   "source": [
    "bandpass = archives[0].clone()\n",
    "bandpass.remove_baseline()\n",
    "bandpass.tscrunch()\n",
    "bandpass.convert_state(\"Stokes\")\n",
    "bandpass_data = bandpass.get_data()\n",
    "bandpass_data = bandpass_data.squeeze()"
   ]
  },
  {
   "cell_type": "code",
   "execution_count": null,
   "metadata": {
    "collapsed": true
   },
   "outputs": [],
   "source": [
    "figure(figsize=[15,10])\n",
    "plt.xlim(0, bandpass.get_nchan() - 1.0)\n",
    "plt.xlabel(\"Channel number\")\n",
    "plt.ylabel(\"Flux (a.u.)\")\n",
    "plt.plot(np.average(bandpass_data[0,:,:],axis=1))"
   ]
  },
  {
   "cell_type": "code",
   "execution_count": null,
   "metadata": {
    "collapsed": false
   },
   "outputs": [],
   "source": [
    "dynamic_Coherence = archives[0].clone()\n",
    "dynamic_Coherence.dedisperse()\n",
    "dynamic_Coherence.remove_baseline()\n",
    "dynamic_Coherence.tscrunch()\n",
    "dynamic_Coherence.centre_max_bin()\n",
    "dynamic_Coherence_data = dynamic_Coherence.get_data()\n",
    "lowFreq = dynamic_Coherence.get_centre_frequency() - dynamic_Coherence.get_bandwidth() / 2.0\n",
    "highFreq = dynamic_Coherence.get_centre_frequency() + dynamic_Coherence.get_bandwidth() / 2.0"
   ]
  },
  {
   "cell_type": "code",
   "execution_count": null,
   "metadata": {
    "collapsed": false
   },
   "outputs": [],
   "source": [
    "figure(figsize = [15,10])\n",
    "plt.subplot(2, 2, 1)\n",
    "plt.title(\"XX\")\n",
    "plt.imshow(dynamic_Coherence_data[0, 0, :, :], extent = (0, dynamic_Coherence.get_nbin() - 1.0, lowFreq, highFreq), cmap = get_cmap(\"binary\"))\n",
    "plt.subplot(2, 2, 2)\n",
    "plt.title(\"YY\")\n",
    "plt.imshow(dynamic_Coherence_data[0, 1, :, :], extent = (0, dynamic_Coherence.get_nbin() - 1.0, lowFreq, highFreq), cmap = get_cmap(\"binary\"))\n",
    "plt.subplot(2, 2, 3)\n",
    "plt.title(\"Re(XY)\")\n",
    "plt.imshow(dynamic_Coherence_data[0, 2, :, :], extent = (0, dynamic_Coherence.get_nbin() - 1.0, lowFreq, highFreq), cmap = get_cmap(\"binary\"))\n",
    "plt.subplot(2, 2, 4)\n",
    "plt.title(\"Im(XY)\")\n",
    "plt.imshow(dynamic_Coherence_data[0, 3, :, :], extent = (0, dynamic_Coherence.get_nbin() - 1.0, lowFreq, highFreq), cmap = get_cmap(\"binary\"))"
   ]
  },
  {
   "cell_type": "code",
   "execution_count": null,
   "metadata": {
    "collapsed": false
   },
   "outputs": [],
   "source": [
    "dynamic_Stokes = archives[0].clone()\n",
    "dynamic_Stokes.dedisperse()\n",
    "dynamic_Stokes.remove_baseline()\n",
    "dynamic_Stokes.tscrunch()\n",
    "dynamic_Stokes.centre_max_bin()\n",
    "dynamic_Stokes.convert_state(\"Stokes\")\n",
    "dynamic_Stokes_data = dynamic_Stokes.get_data()\n",
    "lowFreq = dynamic_Stokes.get_centre_frequency() - dynamic_Stokes.get_bandwidth() / 2.0\n",
    "highFreq = dynamic_Stokes.get_centre_frequency() + dynamic_Stokes.get_bandwidth() / 2.0"
   ]
  },
  {
   "cell_type": "code",
   "execution_count": null,
   "metadata": {
    "collapsed": false
   },
   "outputs": [],
   "source": [
    "figure(figsize = [15,10])\n",
    "plt.subplot(2, 2, 1)\n",
    "plt.title(\"I\")\n",
    "plt.imshow(dynamic_Stokes_data[0, 0, :, :], extent = (0, dynamic_Stokes.get_nbin() - 1.0, lowFreq, highFreq), cmap = get_cmap(\"binary\"))\n",
    "plt.subplot(2, 2, 2)\n",
    "plt.title(\"Q\")\n",
    "plt.imshow(dynamic_Stokes_data[0, 1, :, :], extent = (0, dynamic_Stokes.get_nbin() - 1.0, lowFreq, highFreq), cmap = get_cmap(\"binary\"))\n",
    "plt.subplot(2, 2, 3)\n",
    "plt.title(\"U\")\n",
    "plt.imshow(dynamic_Stokes_data[0, 2, :, :], extent = (0, dynamic_Stokes.get_nbin() - 1.0, lowFreq, highFreq), cmap = get_cmap(\"binary\"))\n",
    "plt.subplot(2, 2, 4)\n",
    "plt.title(\"V\")\n",
    "plt.imshow(dynamic_Stokes_data[0, 3, :, :], extent = (0, dynamic_Stokes.get_nbin() - 1.0, lowFreq, highFreq), cmap = get_cmap(\"binary\"))"
   ]
  }
 ],
 "metadata": {
  "kernelspec": {
   "display_name": "Python 2",
   "language": "python",
   "name": "python2"
  },
  "language_info": {
   "codemirror_mode": {
    "name": "ipython",
    "version": 2
   },
   "file_extension": ".py",
   "mimetype": "text/x-python",
   "name": "python",
   "nbconvert_exporter": "python",
   "pygments_lexer": "ipython2",
   "version": "2.7.9"
  }
 },
 "nbformat": 4,
 "nbformat_minor": 1
}
