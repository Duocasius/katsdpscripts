{
 "cells": [
  {
   "cell_type": "code",
   "execution_count": 90,
   "metadata": {
    "collapsed": false
   },
   "outputs": [],
   "source": [
    "# Import python packages\n",
    "%matplotlib inline\n",
    "import katdal\n",
    "import matplotlib\n",
    "import os, string\n",
    "import matplotlib.pyplot as plt\n",
    "import numpy\n",
    "import numpy as np\n",
    "import pylab\n",
    "import scape\n",
    "from pylab import figure, plot, legend, xlabel, ylabel, ylim,xlim, subplot,title,hist\n",
    "from pylab import *\n",
    "import scipy as sp\n",
    "from scipy import signal as sp_signal\n",
    "from scipy import integrate\n",
    "from datetime import datetime\n",
    "import time\n",
    "import katpoint\n",
    "import itertools\n",
    "import copy\n",
    "import csv\n",
    "import sys\n",
    "import matplotlib.ticker as mtick\n",
    "import matplotlib.backends.backend_pdf\n",
    "from scipy.interpolate import interp1d"
   ]
  },
  {
   "cell_type": "code",
   "execution_count": 91,
   "metadata": {
    "collapsed": false
   },
   "outputs": [],
   "source": [
    "filename='/var/kat/archive2/data/MeerKATAR1/telescope_products/2016/06/21/1466506646.h5'\n",
    "try:\n",
    "    h5 = katdal.open(filename, quicklook=True)\n",
    "except Exception as err_msg: raise SystemExit('An error as occured:\\n%s' % err_msg)\n",
    "ants = h5.ants\n",
    "scan_indices = h5.scan_indices\n",
    "pol = 'H'\n",
    "ant = ants[0]"
   ]
  },
  {
   "cell_type": "code",
   "execution_count": 92,
   "metadata": {
    "collapsed": false,
    "scrolled": false
   },
   "outputs": [
    {
     "name": "stdout",
     "output_type": "stream",
     "text": [
      "[31.066439151763916, 31.535377502441406, 31.14501953125, 31.455092430114746, 31.911587715148926, 31.493847370147705, 31.116342544555664, 31.542673110961914, 31.12668514251709]\n"
     ]
    }
   ],
   "source": [
    "h5.select(reset='T')\n",
    "h5.select(ants=ant.name, pol=pol, corrprods='auto', scans='track', compscans='track')\n",
    "track_indices = h5.scan_indices\n",
    "data1=[]\n",
    "for scan_idx in track_indices:\n",
    "    h5.select(reset='T')\n",
    "    h5.select(ants=ant.name, pol=pol, corrprods='auto', scans=scan_idx, compscans='track')\n",
    "    nd_mask=h5.sensor['Antennas/%s/nd_coupler'%ant.name]\n",
    "    if np.any(h5.sensor['Antennas/%s/nd_coupler'%ant.name]):\n",
    "        nd_idx=np.nonzero(h5.sensor['Antennas/%s/nd_coupler'%ant.name])[0]\n",
    "        if nd_idx[0]>0: nd_mask[nd_idx[0]-1]=True\n",
    "        if nd_idx[-1]<len(h5.dumps): nd_mask[nd_idx[-1]+1]=True\n",
    "    data1.append(10.*np.log10(np.abs(np.mean(h5.vis[:,2200:2400,0], axis=1)).mean()))\n",
    "print data1"
   ]
  },
  {
   "cell_type": "code",
   "execution_count": 93,
   "metadata": {
    "collapsed": false
   },
   "outputs": [],
   "source": [
    "filename='/var/kat/archive2/data/MeerKATAR1/telescope_products/2016/06/21/1466507359.h5'\n",
    "try:\n",
    "    h5 = katdal.open(filename, quicklook=True)\n",
    "except Exception as err_msg: raise SystemExit('An error as occured:\\n%s' % err_msg)"
   ]
  },
  {
   "cell_type": "code",
   "execution_count": 94,
   "metadata": {
    "collapsed": false
   },
   "outputs": [
    {
     "name": "stdout",
     "output_type": "stream",
     "text": [
      "[31.912295818328857, 31.112136840820312, 31.54381275177002, 31.111910343170166, 31.479923725128174, 31.914477348327637, 31.462674140930176, 31.141872406005859, 31.538684368133545, 31.08436107635498]\n"
     ]
    }
   ],
   "source": [
    "h5.select(reset='T')\n",
    "h5.select(ants=ant.name, pol=pol, corrprods='auto', scans='track', compscans='track')\n",
    "track_indices = h5.scan_indices\n",
    "data2=[]\n",
    "for scan_idx in track_indices:\n",
    "    h5.select(reset='T')\n",
    "    h5.select(ants=ant.name, pol=pol, corrprods='auto', scans=scan_idx, compscans='track')\n",
    "    nd_mask=h5.sensor['Antennas/%s/nd_coupler'%ant.name]\n",
    "    if np.any(h5.sensor['Antennas/%s/nd_coupler'%ant.name]):\n",
    "        nd_idx=np.nonzero(h5.sensor['Antennas/%s/nd_coupler'%ant.name])[0]\n",
    "        if nd_idx[0]>0: nd_mask[nd_idx[0]-1]=True\n",
    "        if nd_idx[-1]<len(h5.dumps): nd_mask[nd_idx[-1]+1]=True\n",
    "    data2.append(10.*np.log10(np.abs(np.mean(h5.vis[:,2200:2400,0], axis=1)).mean()))\n",
    "print data2"
   ]
  },
  {
   "cell_type": "code",
   "execution_count": 95,
   "metadata": {
    "collapsed": false
   },
   "outputs": [
    {
     "name": "stdout",
     "output_type": "stream",
     "text": [
      "31.9122958183\n",
      "[[ 31.06643915  31.5353775   31.14501953]\n",
      " [ 31.45509243  31.91158772  31.49384737]\n",
      " [ 31.11634254  31.54267311  31.12668514]]\n",
      "[[ 31.11213684  31.54381275  31.11191034]\n",
      " [ 31.47992373  31.91447735  31.46267414]\n",
      " [ 31.14187241  31.53868437  31.08436108]]\n",
      "[[ 0.04569769  0.00843525  0.03310919]\n",
      " [ 0.0248313   0.00288963  0.03117323]\n",
      " [ 0.02552986  0.00398874  0.04232407]]\n"
     ]
    }
   ],
   "source": [
    "vec1= data1[::-1]\n",
    "\n",
    "vec2= data2[::-1]\n",
    "\n",
    "taua = vec2.pop()\n",
    "\n",
    "print taua\n",
    "matrix1=numpy.zeros((3,3))\n",
    "for ira in [-1,0,1]:\n",
    "    for idec in [-1,0,1]:\n",
    "        matrix1[1+ira,1+idec]=vec1.pop()\n",
    "print matrix1\n",
    "matrix2=numpy.zeros((3,3))\n",
    "for ira in [-1,0,1]:\n",
    "    for idec in [-1,0,1]:\n",
    "        matrix2[1+ira,1+idec]=vec2.pop()\n",
    "print matrix2\n",
    "\n",
    "print np.abs(matrix1-matrix2)"
   ]
  },
  {
   "cell_type": "raw",
   "metadata": {},
   "source": [
    "http://10.97.1.13:8081/tailtask/20160621-0009/progress\n",
    "http://10.97.1.13:8081/tailtask/20160621-0010/progress"
   ]
  },
  {
   "cell_type": "code",
   "execution_count": null,
   "metadata": {
    "collapsed": true
   },
   "outputs": [],
   "source": []
  }
 ],
 "metadata": {
  "kernelspec": {
   "display_name": "Python 2",
   "language": "python",
   "name": "python2"
  },
  "language_info": {
   "codemirror_mode": {
    "name": "ipython",
    "version": 2
   },
   "file_extension": ".py",
   "mimetype": "text/x-python",
   "name": "python",
   "nbconvert_exporter": "python",
   "pygments_lexer": "ipython2",
   "version": "2.7.6"
  }
 },
 "nbformat": 4,
 "nbformat_minor": 0
}
