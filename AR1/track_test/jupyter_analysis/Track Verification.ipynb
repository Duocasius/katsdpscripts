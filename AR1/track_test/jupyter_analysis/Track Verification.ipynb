{
 "cells": [
  {
   "cell_type": "code",
   "execution_count": 34,
   "metadata": {
    "collapsed": false
   },
   "outputs": [],
   "source": [
    "# Import python packages\n",
    "%matplotlib inline\n",
    "import numpy\n",
    "import numpy as np\n",
    "import datetime,ephem"
   ]
  },
  {
   "cell_type": "markdown",
   "metadata": {},
   "source": [
    "# Tau A"
   ]
  },
  {
   "cell_type": "markdown",
   "metadata": {},
   "source": [
    "## CAM interface"
   ]
  },
  {
   "cell_type": "raw",
   "metadata": {},
   "source": [
    "import katuilib, katpoint\n",
    "configure()\n",
    "\n",
    "target = kat.sources['Tau A']\n",
    "\n",
    "[ra,dec]=target.radec()\n",
    "print ra,dec\n",
    "5:34:31.97 22:00:52.1\n",
    "print katpoint.rad2deg(ra), katpoint.rad2deg(dec)\n",
    "83.6332083333 22.0144722222\n",
    "\n",
    "[ra,dec]=target.apparent_radec()\n",
    "print ra,dec\n",
    "5:35:29.72 22:01:17.4\n",
    "print katpoint.rad2deg(ra), katpoint.rad2deg(dec)\n",
    "83.873845814 22.0214908523\n",
    "\n",
    "print target.flux_model.description\n",
    "'(1400.0 10000.0 3.915 -0.299)'"
   ]
  },
  {
   "cell_type": "markdown",
   "metadata": {},
   "source": [
    "## Schedule blocks"
   ]
  },
  {
   "cell_type": "raw",
   "metadata": {},
   "source": [
    "configure_obs()\n",
    "obs.sb.new(owner='AQF-test_drift_scan')\n",
    "obs.sb.type = katuilib.ScheduleBlockTypes.OBSERVATION\n",
    "obs.sb.description = 'AR1: MKAIV-80 Tau A track test'\n",
    "obs.sb.antenna_spec = 'available'\n",
    "obs.sb.controlled_resources=\"data\"\n",
    "obs.sb.instruction_set= \"run-obs-script /home/kat/AR1/track_test/track_target.py 'Tau A, radec, 5:34:31.97, 22:00:52.1' -n 'off' -t 60 --horizon 20\"\n",
    "\n",
    "configure_obs()\n",
    "obs.sb.new(owner='AQF-test_drift_scan')\n",
    "obs.sb.type = katuilib.ScheduleBlockTypes.OBSERVATION\n",
    "obs.sb.description = 'AR1: MKAIV-80 Tau A track test'\n",
    "obs.sb.antenna_spec = 'available'\n",
    "obs.sb.controlled_resources=\"data\"\n",
    "obs.sb.instruction_set= \"run-obs-script /home/kat/AR1/track_test/track_target.py 'Tau A' -n 'off' -t 60 --horizon 20\""
   ]
  },
  {
   "cell_type": "markdown",
   "metadata": {},
   "source": [
    "## Ephem coordinates"
   ]
  },
  {
   "cell_type": "code",
   "execution_count": 21,
   "metadata": {
    "collapsed": false
   },
   "outputs": [
    {
     "name": "stdout",
     "output_type": "stream",
     "text": [
      "\n",
      "Find rising, setting and transit time\n",
      "Date UTC 2016/6/20 13:30:02\n",
      "\tNext rise 2016/6/20 05:07:14\n",
      "\tNext set 2016/6/20 15:20:02\n",
      "\tNext transit 2016/6/20 10:13:38\n",
      "Apparent RA/DEC\n",
      "\t (RA,Dec) 5:35:29.72 22:01:17.4\n",
      "\t (RA,Dec) 83.8738469661 22.0214909301\n",
      "83.8738469661 22.0214909301\n",
      "83.6238469661 21.7714909301\n",
      "83.6238469661 22.0214909301\n",
      "83.6238469661 22.2714909301\n",
      "83.8738469661 21.7714909301\n",
      "83.8738469661 22.0214909301\n",
      "83.8738469661 22.2714909301\n",
      "84.1238469661 21.7714909301\n",
      "84.1238469661 22.0214909301\n",
      "84.1238469661 22.2714909301\n"
     ]
    }
   ],
   "source": [
    "observer = ephem.Observer()\n",
    "observer.lon='21:24:38.5'\n",
    "observer.lat='-30:43:17.3'\n",
    "observer.elevation = 1038.0\n",
    "observer.date = ephem.Date(datetime.datetime(2016, 6, 20, 0, 0, 0))\n",
    "observer.date = ephem.now()\n",
    "\n",
    "target = ephem.FixedBody()\n",
    "#Tau A, radec, 5:34:31.97, 22:00:52.1\n",
    "target.name='Tau A'\n",
    "target._ra = '5:34:31.97'\n",
    "target._dec = '22:00:52.1'\n",
    "\n",
    "target.compute(observer)\n",
    "print '\\nFind rising, setting and transit time'\n",
    "print 'Date UTC', observer.date\n",
    "print '\\tNext rise', target.rise_time\n",
    "print '\\tNext set', target.set_time\n",
    "print '\\tNext transit', target.transit_time\n",
    "\n",
    "print 'Apparent RA/DEC'\n",
    "print '\\t (RA,Dec)', target.ra, target.dec\n",
    "print '\\t (RA,Dec)', np.rad2deg(float(target.ra)), np.rad2deg(float(target.dec))\n",
    "\n",
    "(tra,tdec) = (np.rad2deg(float(target.ra)), np.rad2deg(float(target.dec)))\n",
    "for dra in [-1,0,1]:\n",
    "    for ddec in [-1,0,1]:\n",
    "        print tra+ 0.25*dra, tdec+ 0.25*ddec\n"
   ]
  },
  {
   "cell_type": "markdown",
   "metadata": {},
   "source": [
    "# Moon"
   ]
  },
  {
   "cell_type": "markdown",
   "metadata": {},
   "source": [
    "## CAM interface"
   ]
  },
  {
   "cell_type": "raw",
   "metadata": {},
   "source": [
    "import katuilib, katpoint\n",
    "configure()\n",
    "\n",
    "target = kat.sources['Moon']\n",
    "\n",
    "[ra,dec]=target.radec()\n",
    "print ra,dec\n",
    "18:07:32.80 -18:36:29.7\n",
    "print katpoint.rad2deg(ra), katpoint.rad2deg(dec)\n",
    "271.886652563 -18.6082472539\n",
    "\n",
    "[ra,dec]=target.apparent_radec()\n",
    "print ra,dec\n",
    "18:11:56.04 -18:05:41.2\n",
    "print katpoint.rad2deg(ra), katpoint.rad2deg(dec)\n",
    "272.983498063 -18.0947764623"
   ]
  },
  {
   "cell_type": "markdown",
   "metadata": {},
   "source": [
    "## Schedule blocks"
   ]
  },
  {
   "cell_type": "raw",
   "metadata": {},
   "source": [
    "configure_obs()\n",
    "obs.sb.new(owner='AQF-test_drift_scan')\n",
    "obs.sb.type = katuilib.ScheduleBlockTypes.OBSERVATION\n",
    "obs.sb.description = 'AR1: MKAIV-80 Moon track test'\n",
    "obs.sb.antenna_spec = 'available'\n",
    "obs.sb.controlled_resources=\"data\"\n",
    "obs.sb.instruction_set= \"run-obs-script /home/kat/AR1/track_test/track_target.py 'Moon,special' -n 'off' -t 60 --horizon 20\"\n",
    "\n",
    "configure_obs()\n",
    "obs.sb.new(owner='AQF-test_drift_scan')\n",
    "obs.sb.type = katuilib.ScheduleBlockTypes.OBSERVATION\n",
    "obs.sb.description = 'AR1: MKAIV-80 Moon track test'\n",
    "obs.sb.antenna_spec = 'available'\n",
    "obs.sb.controlled_resources=\"data\"\n",
    "obs.sb.instruction_set= \"run-obs-script /home/kat/AR1/track_test/track_moon.py 'Moon,special' -n 'off' -t 60 --horizon 20\"\n",
    "\n",
    "configure_obs()\n",
    "obs.sb.new(owner='AQF-test_drift_scan')\n",
    "obs.sb.type = katuilib.ScheduleBlockTypes.OBSERVATION\n",
    "obs.sb.description = 'AR1: MKAIV-80 Moon track test'\n",
    "obs.sb.antenna_spec = 'available'\n",
    "obs.sb.controlled_resources=\"data\"\n",
    "obs.sb.instruction_set= \"run-obs-script /home/kat/AR1/track_test/track_moon.py 'Moon, radec, 18:11:39.91, -18:05:14.4' -n 'off' -t 60 --horizon 20\""
   ]
  },
  {
   "cell_type": "markdown",
   "metadata": {},
   "source": [
    "## Ephem coordinates"
   ]
  },
  {
   "cell_type": "code",
   "execution_count": 35,
   "metadata": {
    "collapsed": false
   },
   "outputs": [
    {
     "name": "stdout",
     "output_type": "stream",
     "text": [
      "\n",
      "Find rising, setting and transit time\n",
      "Date UTC 2016/6/24 05:25:34\n",
      "\tNext rise 2016/6/24 19:47:15\n",
      "\tNext set 2016/6/24 08:18:08\n",
      "\tNext transit 2016/6/24 01:35:07\n",
      "Apparent RA/DEC\n",
      "\t (RA,Dec) 21:17:01.80 -12:47:35.7\n",
      "\t (RA,Dec) 319.257510183 -12.793238488\n",
      "21:17:01.80 -12:47:35.7\n",
      "21:17:01.80 -12:47:35.7\n",
      "21:17:03.55 -12:47:25.6\n",
      "21:17:05.29 -12:47:15.6\n",
      "21:17:07.04 -12:47:05.5\n",
      "21:17:08.80 -12:46:55.5\n",
      "21:17:10.55 -12:46:45.4\n",
      "21:17:12.31 -12:46:35.3\n",
      "21:17:14.07 -12:46:25.2\n",
      "21:17:15.84 -12:46:15.2\n",
      "21:17:17.61 -12:46:05.1\n",
      "21:17:19.38 -12:45:55.0\n",
      "21:17:21.16 -12:45:44.9\n",
      "21:17:22.93 -12:45:34.7\n",
      "21:17:24.71 -12:45:24.6\n",
      "21:17:26.50 -12:45:14.5\n",
      "21:17:28.29 -12:45:04.4\n",
      "21:17:30.08 -12:44:54.2\n",
      "21:17:31.87 -12:44:44.1\n",
      "21:17:33.67 -12:44:33.9\n",
      "21:17:35.47 -12:44:23.8\n",
      "21:17:37.27 -12:44:13.6\n",
      "21:17:39.08 -12:44:03.4\n",
      "21:17:40.89 -12:43:53.3\n",
      "21:17:42.70 -12:43:43.1\n",
      "21:17:44.52 -12:43:32.9\n"
     ]
    }
   ],
   "source": [
    "moon = ephem.Moon(observer)\n",
    "\n",
    "observer.date = ephem.Date(datetime.datetime(2016, 5, 16, 14, 39, 42, 34))\n",
    "observer.date = ephem.now()\n",
    "\n",
    "moon.compute(observer)\n",
    "print '\\nFind rising, setting and transit time'\n",
    "print 'Date UTC', observer.date\n",
    "print '\\tNext rise', moon.rise_time\n",
    "print '\\tNext set', moon.set_time\n",
    "print '\\tNext transit', moon.transit_time\n",
    "\n",
    "print 'Apparent RA/DEC'\n",
    "print '\\t (RA,Dec)', moon.ra, moon.dec\n",
    "print '\\t (RA,Dec)', np.rad2deg(float(moon.ra)), np.rad2deg(float(moon.dec))\n",
    "\n",
    "\n",
    "print moon.ra, moon.dec\n",
    "\n",
    "for n in range(25):\n",
    "    observer.date = ephem.Date(ephem.now()+n*ephem.minute)\n",
    "    moon.compute(observer)\n",
    "    print moon.ra, moon.dec\n",
    "    "
   ]
  },
  {
   "cell_type": "code",
   "execution_count": null,
   "metadata": {
    "collapsed": true
   },
   "outputs": [],
   "source": []
  }
 ],
 "metadata": {
  "kernelspec": {
   "display_name": "Python 2",
   "language": "python",
   "name": "python2"
  },
  "language_info": {
   "codemirror_mode": {
    "name": "ipython",
    "version": 2
   },
   "file_extension": ".py",
   "mimetype": "text/x-python",
   "name": "python",
   "nbconvert_exporter": "python",
   "pygments_lexer": "ipython2",
   "version": "2.7.6"
  }
 },
 "nbformat": 4,
 "nbformat_minor": 0
}
