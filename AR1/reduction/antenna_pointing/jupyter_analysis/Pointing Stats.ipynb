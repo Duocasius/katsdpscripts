{
 "cells": [
  {
   "cell_type": "markdown",
   "metadata": {},
   "source": [
    "RvR: Stolen useful script from Sean's notebooks\n",
    "\n",
    "This fits a pointing model to the given data CSV file with the targets that are included in the the offset pointing csv file"
   ]
  },
  {
   "cell_type": "code",
   "execution_count": 9,
   "metadata": {
    "collapsed": false
   },
   "outputs": [
    {
     "name": "stdout",
     "output_type": "stream",
     "text": [
      "Populating the interactive namespace from numpy and matplotlib\n"
     ]
    },
    {
     "name": "stderr",
     "output_type": "stream",
     "text": [
      "WARNING: pylab import has clobbered these variables: ['deg2rad', 'rad2deg']\n",
      "`%matplotlib` prevents importing * from pylab and numpy\n"
     ]
    }
   ],
   "source": [
    "%pylab inline\n",
    "\n",
    "import os\n",
    "import numpy as np\n",
    "from matplotlib.backends.backend_pdf import PdfPages\n",
    "import matplotlib.pyplot as plt\n",
    "import katpoint\n",
    "from katpoint import rad2deg, deg2rad"
   ]
  },
  {
   "cell_type": "markdown",
   "metadata": {},
   "source": [
    "#User Input"
   ]
  },
  {
   "cell_type": "code",
   "execution_count": 10,
   "metadata": {
    "collapsed": true
   },
   "outputs": [],
   "source": [
    "filename=\"1454365764_m062_point_source_scans.csv\""
   ]
  },
  {
   "cell_type": "markdown",
   "metadata": {},
   "source": [
    "#Processing Script"
   ]
  },
  {
   "cell_type": "code",
   "execution_count": 11,
   "metadata": {
    "collapsed": false
   },
   "outputs": [],
   "source": [
    "# Minimum uncertainty of data points, expressed as the sky RMS in arcminutes\n",
    "min_rms=np.sqrt(2) * 60. * 1e-12\n",
    "# Ignore uncertainties of data points during fitting\n",
    "use_stats = True"
   ]
  },
  {
   "cell_type": "code",
   "execution_count": 12,
   "metadata": {
    "collapsed": false
   },
   "outputs": [],
   "source": [
    "def read_offsetfile(filename):\n",
    "    # Load data file in one shot as an array of strings\n",
    "    string_fields = ['dataset', 'target', 'timestamp_ut', 'data_unit']\n",
    "    data = np.loadtxt(filename, dtype='string', comments='#', delimiter=', ')\n",
    "    # Interpret first non-comment line as header\n",
    "    fields = data[0].tolist()\n",
    "    # By default, all fields are assumed to contain floats\n",
    "    formats = np.tile(np.float, len(fields))\n",
    "    # The string_fields are assumed to contain strings - use data's string type, as it is of sufficient length\n",
    "    formats[[fields.index(name) for name in string_fields if name in fields]] = data.dtype\n",
    "    # Convert to heterogeneous record array\n",
    "    data = np.rec.fromarrays(data[1:].transpose(), dtype=zip(fields, formats))\n",
    "    # Load antenna description string from first line of file and construct antenna object from it\n",
    "    antenna = katpoint.Antenna(file(filename).readline().strip().partition('=')[2])\n",
    "    # Use the pointing model contained in antenna object as the old model (if not overridden by file)\n",
    "    # If the antenna has no model specified, a default null model will be used\n",
    "    return data\n",
    "\n",
    "data = read_offsetfile(filename)\n",
    "# Choose Data \n",
    "target_list = np.array(list(set(data['target'])))\n",
    "np.random.shuffle(target_list)\n",
    "sample_number = np.floor(len(set(data['target']))*0.2)\n",
    "offsetdata = target_list[0:sample_number]\n",
    "keep = np.ones((len(data)),dtype=np.bool)\n",
    "for key,target in enumerate(data['target']):\n",
    "    keep[key] = target not in set(offsetdata)"
   ]
  },
  {
   "cell_type": "code",
   "execution_count": 13,
   "metadata": {
    "collapsed": false
   },
   "outputs": [],
   "source": [
    "def angle_wrap(angle, period=2.0 * np.pi):\n",
    "    \"\"\"Wrap angle into the interval -*period* / 2 ... *period* / 2.\"\"\"\n",
    "    return (angle + 0.5 * period) % period - 0.5 * period\n",
    "\n",
    "# Initialise new pointing model and set default enabled parameters\n",
    "new_model = katpoint.PointingModel()\n",
    "num_params = len(new_model)\n",
    "default_enabled = np.array([1, 3, 4, 5, 6, 7]) - 1\n",
    "enabled_params = np.tile(False, num_params)\n",
    "enabled_params[default_enabled] = True\n",
    "enabled_params = enabled_params.tolist()\n",
    "# Fit new pointing model\n",
    "az, el = angle_wrap(deg2rad(data['azimuth'])), deg2rad(data['elevation'])\n",
    "measured_delta_az, measured_delta_el = deg2rad(data['delta_azimuth']), deg2rad(data['delta_elevation'])\n",
    "# Uncertainties are optional\n",
    "min_std = deg2rad(min_rms  / 60. / np.sqrt(2))\n",
    "std_delta_az = np.clip(deg2rad(data['delta_azimuth_std']), min_std, np.inf) \\\n",
    "    if 'delta_azimuth_std' in data.dtype.fields and use_stats else np.tile(min_std, len(az))\n",
    "std_delta_el = np.clip(deg2rad(data['delta_elevation_std']), min_std, np.inf) \\\n",
    "    if 'delta_elevation_std' in data.dtype.fields and use_stats else np.tile(min_std, len(el))\n",
    "\n",
    "params, sigma_params = new_model.fit(az[keep], el[keep], measured_delta_az[keep], measured_delta_el[keep],\n",
    "                                     std_delta_az[keep], std_delta_el[keep], enabled_params)"
   ]
  },
  {
   "cell_type": "code",
   "execution_count": 14,
   "metadata": {
    "collapsed": true
   },
   "outputs": [],
   "source": [
    "def metrics(model,az,el,measured_delta_az, measured_delta_el ,std_delta_az ,std_delta_el):\n",
    "    \"\"\"Determine new residuals and sky RMS from pointing model.\"\"\"\n",
    "    model_delta_az, model_delta_el = model.offset(az, el)\n",
    "    residual_az = measured_delta_az - model_delta_az\n",
    "    residual_el = measured_delta_el - model_delta_el\n",
    "    residual_xel  = residual_az * np.cos(el)\n",
    "    abs_sky_error = rad2deg(np.sqrt(residual_xel ** 2 + residual_el ** 2)) * 60.\n",
    "    ###### On the calculation of all-sky RMS #####\n",
    "    # Assume the el and cross-el errors have zero mean, are distributed normally, and are uncorrelated\n",
    "    # They are therefore described by a 2-dimensional circular Gaussian pdf with zero mean and *per-component*\n",
    "    # standard deviation of sigma\n",
    "    # The absolute sky error (== Euclidean length of 2-dim error vector) then has a Rayleigh distribution\n",
    "    # The RMS sky error has a mean value of sqrt(2) * sigma, since each squared error term is the sum of\n",
    "    # two squared Gaussian random values, each with an expected value of sigma^2.\n",
    "\n",
    "    sky_rms = np.sqrt(np.mean(abs_sky_error ** 2))\n",
    "    # A more robust estimate of the RMS sky error is obtained via the median of the Rayleigh distribution,\n",
    "    # which is sigma * sqrt(log(4)) -> convert this to the RMS sky error = sqrt(2) * sigma\n",
    "    robust_sky_rms = np.median(abs_sky_error) * np.sqrt(2. / np.log(4.))\n",
    "    # The chi^2 value is what is actually optimised by the least-squares fitter (evaluated on the training set)\n",
    "    chi2 = np.sum(((residual_xel / std_delta_az) ** 2 + (residual_el / std_delta_el) ** 2))\n",
    "    text = []\n",
    "    #text.append(\"$\\chi^2$ = %g \" % chi2)\n",
    "    text.append(\"All sky RMS = %.3f' (robust %.3f') \" % (sky_rms, robust_sky_rms))\n",
    "    return sky_rms,robust_sky_rms,chi2,text\n",
    "\n",
    "sky_rms,robust_sky_rms,chi2,text1 = metrics(new_model,az[keep],el[keep],measured_delta_az[keep], measured_delta_el[keep] ,std_delta_az[keep] ,std_delta_el[keep])\n",
    "sky_rms,robust_sky_rms,chi2,text2 = metrics(new_model,az[~keep],el[~keep],measured_delta_az[~keep], measured_delta_el[~keep] ,std_delta_az[~keep] ,std_delta_el[~keep])\n"
   ]
  },
  {
   "cell_type": "code",
   "execution_count": 15,
   "metadata": {
    "collapsed": false
   },
   "outputs": [
    {
     "name": "stdout",
     "output_type": "stream",
     "text": [
      "List of targets used:\n",
      "PKS 1934-63, 3C 279, 3C 358, PKS 2153-69, \n",
      "3C 273, Her A, 3C 353, Pic A, PKS 0410-75, \n",
      "Vir A, Ori A, PKS 0521-36, PKS 1610-60, PKS 1814-63, \n",
      "Hyd A, \n",
      "Blind Pointing metrics for fitted points. (N= 24  Fitting Data Points) \n",
      "All sky RMS = 33.216' (robust 26.279') \n",
      "\n",
      "Blind Pointing metrics for test points.  (N= 5 Test Data Points) R.T.P.3\n",
      "List of test targets used:\n",
      "PKS 2153-69, Hyd A, PKS 0410-75, \n",
      "All sky RMS = 39.300' (robust 32.458') \n",
      "\n",
      "\n"
     ]
    }
   ],
   "source": [
    "pagetext = []\n",
    "i = 0\n",
    "tmpstr = \"\"\n",
    "linelength = 5\n",
    "pagetext.append(\"List of targets used:\")\n",
    "for tar in list(set(data['target'])):\n",
    "    if  i % linelength == linelength-1 :\n",
    "        pagetext.append(tmpstr)\n",
    "        tmpstr = \"\"\n",
    "    i = i + 1\n",
    "    tmpstr +='%s, '%(tar)\n",
    "pagetext.append(tmpstr)\n",
    "\n",
    "pagetext.append(\"Blind Pointing metrics for fitted points. (N= %i  Fitting Data Points) \"%(np.sum(keep)))\n",
    "pagetext += text1\n",
    "pagetext.append(\"\")\n",
    "pagetext.append(\"Blind Pointing metrics for test points.  (N= %i Test Data Points) R.T.P.3\"%(np.sum(~keep)))\n",
    "i = 0\n",
    "tmpstr = \"\"\n",
    "linelength = 5\n",
    "pagetext.append(\"List of test targets used:\")\n",
    "for  tar in list(offsetdata):\n",
    "    if  i % linelength == linelength-1 :\n",
    "        pagetext.append(tmpstr)\n",
    "        tmpstr = \"\"\n",
    "    i = i + 1\n",
    "    tmpstr +='%s, '%(tar)\n",
    "pagetext.append(tmpstr)\n",
    "\n",
    "pagetext += text2\n",
    "pagetext.append(\"\")\n",
    "pagetext.append(\"\")\n",
    "for line in pagetext: print line"
   ]
  },
  {
   "cell_type": "markdown",
   "metadata": {},
   "source": [
    "#Output and Report"
   ]
  },
  {
   "cell_type": "code",
   "execution_count": 16,
   "metadata": {
    "collapsed": false
   },
   "outputs": [],
   "source": [
    "if True :\n",
    "    nice_filename =  os.path.splitext(os.path.basename(filename))[0]+ '_pointing_stats'\n",
    "    pp = PdfPages(nice_filename+'.pdf')\n",
    "    fig = plt.figure(None,figsize = (10,16))\n",
    "    plt.figtext(0.1,0.1,'\\n'.join(pagetext),fontsize=12)\n",
    "    fig.savefig(pp,format='pdf')\n",
    "    plt.close(fig)\n",
    "    pp.close()"
   ]
  },
  {
   "cell_type": "code",
   "execution_count": null,
   "metadata": {
    "collapsed": true
   },
   "outputs": [],
   "source": []
  }
 ],
 "metadata": {
  "kernelspec": {
   "display_name": "Python 2",
   "language": "python",
   "name": "python2"
  },
  "language_info": {
   "codemirror_mode": {
    "name": "ipython",
    "version": 2
   },
   "file_extension": ".py",
   "mimetype": "text/x-python",
   "name": "python",
   "nbconvert_exporter": "python",
   "pygments_lexer": "ipython2",
   "version": "2.7.6"
  }
 },
 "nbformat": 4,
 "nbformat_minor": 0
}
