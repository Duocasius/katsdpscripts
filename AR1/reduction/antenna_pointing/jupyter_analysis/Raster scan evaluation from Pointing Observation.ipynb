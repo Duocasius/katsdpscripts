{
 "cells": [
  {
   "cell_type": "markdown",
   "metadata": {},
   "source": [
    "RvR: Stolen useful script from Lindsay's notebooks"
   ]
  },
  {
   "cell_type": "code",
   "execution_count": 256,
   "metadata": {
    "collapsed": false
   },
   "outputs": [
    {
     "name": "stdout",
     "output_type": "stream",
     "text": [
      "Populating the interactive namespace from numpy and matplotlib\n"
     ]
    }
   ],
   "source": [
    "%pylab inline\n",
    "import os"
   ]
  },
  {
   "cell_type": "code",
   "execution_count": 257,
   "metadata": {
    "collapsed": true
   },
   "outputs": [],
   "source": [
    "import katdal\n",
    "import katpoint\n",
    "import scape"
   ]
  },
  {
   "cell_type": "markdown",
   "metadata": {},
   "source": [
    "#User Input"
   ]
  },
  {
   "cell_type": "code",
   "execution_count": 258,
   "metadata": {
    "collapsed": true
   },
   "outputs": [],
   "source": [
    "#filename = '/var/kat/archive/data/MeerKATAR1/telescope_products/2016/02/29/1456759234.h5'\n",
    "#filename = '/var/kat/archive/data/MeerKATAR1/telescope_products/2016/02/27/1456557706.h5'\n",
    "#filename = '/var/kat/archive/data/MeerKATAR1/telescope_products/2016/02/26/1456520379.h5'\n",
    "#filename = '/var/kat/archive/data/MeerKATAR1/telescope_products/2016/02/26/1456505723.h5'\n",
    "#filename = '/var/kat/archive/data/MeerKATAR1/telescope_products/2016/02/22/1456155415.h5'\n",
    "#filename = '/var/kat/archive/data/MeerKATAR1/telescope_products/2016/02/22/1456149609.h5'\n",
    "#filename = '/var/kat/archive/data/MeerKATAR1/telescope_products/2016/02/22/1456114745.h5'\n",
    "#filename = '/var/kat/archive/data/MeerKATAR1/telescope_products/2016/02/17/1455726323.h5'\n",
    "#filename = '/var/kat/archive/data/MeerKATAR1/telescope_products/2016/02/17/1455699514.h5'\n",
    "#filename = '/var/kat/archive/data/MeerKATAR1/telescope_products/2016/02/16/1455651343.h5'\n",
    "#filename = '/var/kat/archive/data/MeerKATAR1/telescope_products/2016/02/16/1455637289.h5'\n",
    "#filename = '/var/kat/archive/data/MeerKATAR1/telescope_products/2016/02/05/1454691824.h5'\n",
    "#filename = '/var/kat/archive/data/MeerKATAR1/telescope_products/2016/02/01/1454365764.h5'\n",
    "#antenna_name='m062'\n",
    "\n",
    "#filename = '/var/kat/archive/data/MeerKATAR1/telescope_products/2016/02/26/1456505723.h5'\n",
    "#filename = '/var/kat/archive/data/MeerKATAR1/telescope_products/2016/02/22/1456155415.h5'\n",
    "#filename = '/var/kat/archive/data/MeerKATAR1/telescope_products/2016/02/22/1456149609.h5'\n",
    "#filename = '/var/kat/archive/data/MeerKATAR1/telescope_products/2016/02/22/1456114745.h5'\n",
    "#filename = '/var/kat/archive/data/MeerKATAR1/telescope_products/2016/02/17/1455726323.h5'\n",
    "#filename = '/var/kat/archive/data/MeerKATAR1/telescope_products/2016/02/17/1455699514.h5'\n",
    "#filename = '/var/kat/archive/data/MeerKATAR1/telescope_products/2016/02/16/1455651343.h5'\n",
    "#filename = '/var/kat/archive/data/MeerKATAR1/telescope_products/2016/02/16/1455637289.h5'\n",
    "#filename = '/var/kat/archive/data/MeerKATAR1/telescope_products/2016/02/09/1455059941.h5'\n",
    "#filename = '/var/kat/archive/data/MeerKATAR1/telescope_products/2016/02/09/1455045090.h5'\n",
    "#filename = '/var/kat/archive/data/MeerKATAR1/telescope_products/2016/02/08/1454948408.h5'\n",
    "#filename = '/var/kat/archive/data/MeerKATAR1/telescope_products/2016/02/05/1454691824.h5'\n",
    "#filename='/var/kat/archive/data/MeerKATAR1/telescope_products/2016/02/01/1454365764.h5'\n",
    "antenna_name='m063'"
   ]
  },
  {
   "cell_type": "markdown",
   "metadata": {},
   "source": [
    "#Processing Script"
   ]
  },
  {
   "cell_type": "code",
   "execution_count": 259,
   "metadata": {
    "collapsed": false
   },
   "outputs": [
    {
     "name": "stderr",
     "output_type": "stream",
     "text": [
      "WARNING:katdal.h5datav3:Irregular timestamps detected in file '/var/kat/archive/data/MeerKATAR1/telescope_products/2016/02/01/1454323952.h5': expected 3467.500 dumps based on dump period and start/end times, got 544 instead\n",
      "WARNING:katdal.dataset:Extending flux density model frequency range of '3C 353' from 1408-10550 MHz to 855-10550 MHz\n"
     ]
    }
   ],
   "source": [
    "nd_models = '/var/kat/katconfig/user/noise-diode-models/mkat/'\n",
    "h5 = katdal.open(filename,centre_freq=1284.0e6)"
   ]
  },
  {
   "cell_type": "code",
   "execution_count": 260,
   "metadata": {
    "collapsed": false,
    "scrolled": false
   },
   "outputs": [
    {
     "name": "stderr",
     "output_type": "stream",
     "text": [
      "WARNING:katdal.sensordata:Last data point for sensor 'Antennas/m063/pos_actual_scan_azim' arrives 772.038 seconds before end of data set - extrapolation may lead to ridiculous values\n",
      "WARNING:katdal.sensordata:Last data point for sensor 'Antennas/m063/pos_actual_scan_elev' arrives 771.534 seconds before end of data set - extrapolation may lead to ridiculous values\n"
     ]
    }
   ],
   "source": [
    "h5.select(reset='T')\n",
    "N = len(h5.compscan_indices)\n",
    "#h5.select(scans='scan',channels=slice(1024,1024+2048))\n",
    "h5.select(ants=antenna_name, scans='scan', channels=slice(1024,1024+2048))\n",
    "ant = h5.ants[0]\n",
    "for c in h5.compscans():\n",
    "    try:\n",
    "        d = scape.DataSet(h5, baseline=\"%s\" % (ant.name,), nd_models=nd_models)\n",
    "    except IOError:\n",
    "        d = scape.DataSet(h5, baseline=\"%s\" % (ant.name,),\n",
    "                          nd_h_model='/var/kat/katconfig/user/noise-diode-models/mkat/rx.l.4.h.csv',\n",
    "                          nd_v_model='/var/kat/katconfig/user/noise-diode-models/mkat/rx.l.4.v.csv')\n",
    "        \n",
    "    if not d is None:\n",
    "        d = d.select(flagkeep='~nd_on')\n",
    "    for i in range(len(d.scans)):\n",
    "        d.scans[i].data = scape.stats.remove_spikes(d.scans[i].data,axis=1,spike_width=3,outlier_sigma=5.)    \n",
    "    d.average()\n",
    "    d.fit_beams_and_baselines()\n",
    "    if d.compscans[0].beam == None:\n",
    "        continue\n",
    "    if d.compscans[0].beam.is_valid:\n",
    "#    if True: #d.compscans[0].beam.is_valid:\n",
    "        figure(figsize=(15,5))\n",
    "        scape.plot_compound_scan_in_time(d.compscans[0])\n",
    "        title(str(d.compscans[0].target) + '. Compscan %d in %d'%(c[0],N) + '. Beamfit valid: %s'%str(d.compscans[0].beam.is_valid))\n",
    "    "
   ]
  },
  {
   "cell_type": "markdown",
   "metadata": {},
   "source": [
    "#Output and Report"
   ]
  },
  {
   "cell_type": "code",
   "execution_count": 261,
   "metadata": {
    "collapsed": false
   },
   "outputs": [],
   "source": [
    "# Default output file names are based on input file name\n",
    "dataset_name = os.path.splitext(os.path.basename(filename))[0]\n",
    "outfilebase = '%s_%s_point_source_raster_scans_beamfit_report' % (dataset_name,antenna_name)\n",
    "from matplotlib.backends.backend_pdf import PdfPages\n",
    "# Generate output report\n",
    "with PdfPages(outfilebase+'.pdf') as pdf:\n",
    "    pagetext  = \"\\nPoint Observation\"\n",
    "    pagetext += \"\\n\\nDescription: %s\\nName: %s\\nExperiment ID: %s\" %(h5.description, h5.name, h5.experiment_id)\n",
    "    pagetext  = pagetext + \"\\n\"\n",
    "    pagetext += \"\\n\\nTest Setup:\"\n",
    "    pagetext += \"\\nRaster Scan across bright source\"\n",
    "    pagetext += \"\\n\\nAntenna %s\" % antenna_name\n",
    "    pagetext += \"\\n------------\"\n",
    "    pagetext  = pagetext + \"\\n\"\n",
    "\n",
    "    plt.figure(None,figsize = (16,8))\n",
    "    plt.axes(frame_on=False)\n",
    "    plt.xticks([])\n",
    "    plt.yticks([])\n",
    "    plt.title(\"AR1 Report %s\"%outfilebase ,fontsize=14, fontweight=\"bold\")\n",
    "    plt.text(0,0,pagetext,fontsize=12)\n",
    "    pdf.savefig()\n",
    "    plt.close()\n",
    "\n",
    "    h5.select(reset='T')\n",
    "    N = len(h5.compscan_indices)\n",
    "    h5.select(ants=antenna_name, scans='scan', channels=slice(1024,1024+2048))\n",
    "    ant = h5.ants[0]\n",
    "    for c in h5.compscans():\n",
    "        d = scape.DataSet(h5, baseline=\"%s\" % (ant.name,), nd_models=nd_models)\n",
    "        if not d is None:\n",
    "            d = d.select(flagkeep='~nd_on')\n",
    "        for i in range(len(d.scans)):\n",
    "            d.scans[i].data = scape.stats.remove_spikes(d.scans[i].data,axis=1,spike_width=3,outlier_sigma=5.)    \n",
    "        d.average()\n",
    "        d.fit_beams_and_baselines()\n",
    "        if d.compscans[0].beam == None:\n",
    "            continue\n",
    "        if True: #d.compscans[0].beam.is_valid:\n",
    "            plt.figure(figsize=(15,5))\n",
    "            scape.plot_compound_scan_in_time(d.compscans[0])\n",
    "            plt.title(str(d.compscans[0].target) + '. Compscan %d in %d'%(c[0],N) + '. Beamfit valid: %s'%str(d.compscans[0].beam.is_valid))\n",
    "            pdf.savefig()\n",
    "            plt.close()\n",
    "\n",
    "    d = pdf.infodict()\n",
    "    import datetime\n",
    "    d['Title'] = h5.description\n",
    "    d['Author'] = 'AR1'\n",
    "    d['Subject'] = 'AR1 Pointing Observation'\n",
    "    d['CreationDate'] = datetime.datetime(2015, 8, 13)\n",
    "    d['ModDate'] = datetime.datetime.today()"
   ]
  },
  {
   "cell_type": "code",
   "execution_count": null,
   "metadata": {
    "collapsed": true
   },
   "outputs": [],
   "source": []
  }
 ],
 "metadata": {
  "kernelspec": {
   "display_name": "Python 2",
   "language": "python",
   "name": "python2"
  },
  "language_info": {
   "codemirror_mode": {
    "name": "ipython",
    "version": 2
   },
   "file_extension": ".py",
   "mimetype": "text/x-python",
   "name": "python",
   "nbconvert_exporter": "python",
   "pygments_lexer": "ipython2",
   "version": "2.7.6"
  }
 },
 "nbformat": 4,
 "nbformat_minor": 0
}
